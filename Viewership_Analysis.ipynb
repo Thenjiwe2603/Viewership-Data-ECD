{
  "nbformat": 4,
  "nbformat_minor": 0,
  "metadata": {
    "colab": {
      "provenance": [],
      "mount_file_id": "1jOCgn2BPJG-B-ILqg00GNrn3Z4_14e1_",
      "authorship_tag": "ABX9TyPHHkr64IZ7LPzcz7ZixSLC",
      "include_colab_link": true
    },
    "kernelspec": {
      "name": "python3",
      "display_name": "Python 3"
    },
    "language_info": {
      "name": "python"
    }
  },
  "cells": [
    {
      "cell_type": "markdown",
      "metadata": {
        "id": "view-in-github",
        "colab_type": "text"
      },
      "source": [
        "<a href=\"https://colab.research.google.com/github/Thenjiwe2603/Viewership-Data-ECD/blob/main/Viewership_Analysis.ipynb\" target=\"_parent\"><img src=\"https://colab.research.google.com/assets/colab-badge.svg\" alt=\"Open In Colab\"/></a>"
      ]
    },
    {
      "cell_type": "markdown",
      "source": [],
      "metadata": {
        "id": "BMD_FKBdoCAZ"
      }
    },
    {
      "cell_type": "markdown",
      "source": [
        "**Importing Libraries**"
      ],
      "metadata": {
        "id": "iqvKncTYoFHI"
      }
    },
    {
      "cell_type": "code",
      "source": [
        "# Brings in the pandas library,\n",
        "# giving it alias pd and excellent for working with structured data\n",
        "import pandas as pd\n",
        "# Giving it alias nd and excellent for working with numerical calculations\n",
        "import numpy as nd"
      ],
      "metadata": {
        "id": "ms2cm09toESm"
      },
      "execution_count": 1,
      "outputs": []
    },
    {
      "cell_type": "markdown",
      "source": [
        "**Data Ingestion**"
      ],
      "metadata": {
        "id": "VrWJGmVXqgyZ"
      }
    },
    {
      "cell_type": "code",
      "execution_count": 7,
      "metadata": {
        "id": "XJTscri3nmmo"
      },
      "outputs": [],
      "source": [
        "# Location of the dataset\n",
        "data_path = (\"/content/drive/MyDrive/Viewership Analysis .xlsx - Data.csv\")"
      ]
    },
    {
      "cell_type": "code",
      "source": [
        "# Reading the data\n",
        "Viewers_Analysis=pd.read_csv(data_path)\n",
        "df=pd.read_csv(data_path)\n"
      ],
      "metadata": {
        "id": "smPcURDBpkYr"
      },
      "execution_count": 8,
      "outputs": []
    },
    {
      "cell_type": "code",
      "source": [
        "# Displaying data\n",
        "display(Viewers_Analysis)"
      ],
      "metadata": {
        "id": "CnBDcHoXqq0C",
        "colab": {
          "base_uri": "https://localhost:8080/",
          "height": 476
        },
        "outputId": "86aa47b7-ff24-430a-bf73-f58142d8f770"
      },
      "execution_count": 9,
      "outputs": [
        {
          "output_type": "display_data",
          "data": {
            "text/plain": [
              "          DateID                    CustomerID  TotalTimeWatched  Platform  \\\n",
              "0       20201101  EW1DENH0EC1J3M9WAOZF9LSV004O               300  Leanback   \n",
              "1       20201101  EW1DENH0EC1J3M9WAOZF9LSV004O               300  Leanback   \n",
              "2       20201101  6TS2LLY0L3G66FVY86Q0JEZE000K               360  Leanback   \n",
              "3       20201101  6TS2LLY0L3G66FVY86Q0JEZE000K               360  Leanback   \n",
              "4       20201101  6PMV67PLJ2S47S68J0Y30XFK003C               120  Leanback   \n",
              "...          ...                           ...               ...       ...   \n",
              "118529  20210416  DGXM5TJ18W1LANOLKJJN5MFT000G               600  Leanback   \n",
              "118530  20210416  DMMVDBZFDT1F7WL4BGWQ5KOJ000G              5194       Web   \n",
              "118531  20210416  1JKBIAY7MEUH6BWX0SCU93GJ000I             47660       Web   \n",
              "118532  20210416  1ADX18R3B33REZ2T0NK911E4002W              1335  Leanback   \n",
              "118533  20210416  BO0REPHA6FP7C15B0K9N1GVO0050               360       iOS   \n",
              "\n",
              "       PlayEventType                           VideoTitle  \n",
              "0             LiveTV            F1 '20: Emilia Romagna GP  \n",
              "1             LiveTV            F1 '20: Emilia Romagna GP  \n",
              "2              Other                      Chasing The Sun  \n",
              "3              Other                      Chasing The Sun  \n",
              "4             LiveTV                   Sonic The Hedgehog  \n",
              "...              ...                                  ...  \n",
              "118529        LiveTV                              New Day  \n",
              "118530        LiveTV  Buying And Selling With Property...  \n",
              "118531        LiveTV                             Expresso  \n",
              "118532        LiveTV                              Unknown  \n",
              "118533        LiveTV                               Imbewu  \n",
              "\n",
              "[118534 rows x 6 columns]"
            ],
            "text/html": [
              "\n",
              "  <div id=\"df-c83cd57b-2386-486d-a2bb-9abe378b0507\" class=\"colab-df-container\">\n",
              "    <div>\n",
              "<style scoped>\n",
              "    .dataframe tbody tr th:only-of-type {\n",
              "        vertical-align: middle;\n",
              "    }\n",
              "\n",
              "    .dataframe tbody tr th {\n",
              "        vertical-align: top;\n",
              "    }\n",
              "\n",
              "    .dataframe thead th {\n",
              "        text-align: right;\n",
              "    }\n",
              "</style>\n",
              "<table border=\"1\" class=\"dataframe\">\n",
              "  <thead>\n",
              "    <tr style=\"text-align: right;\">\n",
              "      <th></th>\n",
              "      <th>DateID</th>\n",
              "      <th>CustomerID</th>\n",
              "      <th>TotalTimeWatched</th>\n",
              "      <th>Platform</th>\n",
              "      <th>PlayEventType</th>\n",
              "      <th>VideoTitle</th>\n",
              "    </tr>\n",
              "  </thead>\n",
              "  <tbody>\n",
              "    <tr>\n",
              "      <th>0</th>\n",
              "      <td>20201101</td>\n",
              "      <td>EW1DENH0EC1J3M9WAOZF9LSV004O</td>\n",
              "      <td>300</td>\n",
              "      <td>Leanback</td>\n",
              "      <td>LiveTV</td>\n",
              "      <td>F1 '20: Emilia Romagna GP</td>\n",
              "    </tr>\n",
              "    <tr>\n",
              "      <th>1</th>\n",
              "      <td>20201101</td>\n",
              "      <td>EW1DENH0EC1J3M9WAOZF9LSV004O</td>\n",
              "      <td>300</td>\n",
              "      <td>Leanback</td>\n",
              "      <td>LiveTV</td>\n",
              "      <td>F1 '20: Emilia Romagna GP</td>\n",
              "    </tr>\n",
              "    <tr>\n",
              "      <th>2</th>\n",
              "      <td>20201101</td>\n",
              "      <td>6TS2LLY0L3G66FVY86Q0JEZE000K</td>\n",
              "      <td>360</td>\n",
              "      <td>Leanback</td>\n",
              "      <td>Other</td>\n",
              "      <td>Chasing The Sun</td>\n",
              "    </tr>\n",
              "    <tr>\n",
              "      <th>3</th>\n",
              "      <td>20201101</td>\n",
              "      <td>6TS2LLY0L3G66FVY86Q0JEZE000K</td>\n",
              "      <td>360</td>\n",
              "      <td>Leanback</td>\n",
              "      <td>Other</td>\n",
              "      <td>Chasing The Sun</td>\n",
              "    </tr>\n",
              "    <tr>\n",
              "      <th>4</th>\n",
              "      <td>20201101</td>\n",
              "      <td>6PMV67PLJ2S47S68J0Y30XFK003C</td>\n",
              "      <td>120</td>\n",
              "      <td>Leanback</td>\n",
              "      <td>LiveTV</td>\n",
              "      <td>Sonic The Hedgehog</td>\n",
              "    </tr>\n",
              "    <tr>\n",
              "      <th>...</th>\n",
              "      <td>...</td>\n",
              "      <td>...</td>\n",
              "      <td>...</td>\n",
              "      <td>...</td>\n",
              "      <td>...</td>\n",
              "      <td>...</td>\n",
              "    </tr>\n",
              "    <tr>\n",
              "      <th>118529</th>\n",
              "      <td>20210416</td>\n",
              "      <td>DGXM5TJ18W1LANOLKJJN5MFT000G</td>\n",
              "      <td>600</td>\n",
              "      <td>Leanback</td>\n",
              "      <td>LiveTV</td>\n",
              "      <td>New Day</td>\n",
              "    </tr>\n",
              "    <tr>\n",
              "      <th>118530</th>\n",
              "      <td>20210416</td>\n",
              "      <td>DMMVDBZFDT1F7WL4BGWQ5KOJ000G</td>\n",
              "      <td>5194</td>\n",
              "      <td>Web</td>\n",
              "      <td>LiveTV</td>\n",
              "      <td>Buying And Selling With Property...</td>\n",
              "    </tr>\n",
              "    <tr>\n",
              "      <th>118531</th>\n",
              "      <td>20210416</td>\n",
              "      <td>1JKBIAY7MEUH6BWX0SCU93GJ000I</td>\n",
              "      <td>47660</td>\n",
              "      <td>Web</td>\n",
              "      <td>LiveTV</td>\n",
              "      <td>Expresso</td>\n",
              "    </tr>\n",
              "    <tr>\n",
              "      <th>118532</th>\n",
              "      <td>20210416</td>\n",
              "      <td>1ADX18R3B33REZ2T0NK911E4002W</td>\n",
              "      <td>1335</td>\n",
              "      <td>Leanback</td>\n",
              "      <td>LiveTV</td>\n",
              "      <td>Unknown</td>\n",
              "    </tr>\n",
              "    <tr>\n",
              "      <th>118533</th>\n",
              "      <td>20210416</td>\n",
              "      <td>BO0REPHA6FP7C15B0K9N1GVO0050</td>\n",
              "      <td>360</td>\n",
              "      <td>iOS</td>\n",
              "      <td>LiveTV</td>\n",
              "      <td>Imbewu</td>\n",
              "    </tr>\n",
              "  </tbody>\n",
              "</table>\n",
              "<p>118534 rows × 6 columns</p>\n",
              "</div>\n",
              "    <div class=\"colab-df-buttons\">\n",
              "\n",
              "  <div class=\"colab-df-container\">\n",
              "    <button class=\"colab-df-convert\" onclick=\"convertToInteractive('df-c83cd57b-2386-486d-a2bb-9abe378b0507')\"\n",
              "            title=\"Convert this dataframe to an interactive table.\"\n",
              "            style=\"display:none;\">\n",
              "\n",
              "  <svg xmlns=\"http://www.w3.org/2000/svg\" height=\"24px\" viewBox=\"0 -960 960 960\">\n",
              "    <path d=\"M120-120v-720h720v720H120Zm60-500h600v-160H180v160Zm220 220h160v-160H400v160Zm0 220h160v-160H400v160ZM180-400h160v-160H180v160Zm440 0h160v-160H620v160ZM180-180h160v-160H180v160Zm440 0h160v-160H620v160Z\"/>\n",
              "  </svg>\n",
              "    </button>\n",
              "\n",
              "  <style>\n",
              "    .colab-df-container {\n",
              "      display:flex;\n",
              "      gap: 12px;\n",
              "    }\n",
              "\n",
              "    .colab-df-convert {\n",
              "      background-color: #E8F0FE;\n",
              "      border: none;\n",
              "      border-radius: 50%;\n",
              "      cursor: pointer;\n",
              "      display: none;\n",
              "      fill: #1967D2;\n",
              "      height: 32px;\n",
              "      padding: 0 0 0 0;\n",
              "      width: 32px;\n",
              "    }\n",
              "\n",
              "    .colab-df-convert:hover {\n",
              "      background-color: #E2EBFA;\n",
              "      box-shadow: 0px 1px 2px rgba(60, 64, 67, 0.3), 0px 1px 3px 1px rgba(60, 64, 67, 0.15);\n",
              "      fill: #174EA6;\n",
              "    }\n",
              "\n",
              "    .colab-df-buttons div {\n",
              "      margin-bottom: 4px;\n",
              "    }\n",
              "\n",
              "    [theme=dark] .colab-df-convert {\n",
              "      background-color: #3B4455;\n",
              "      fill: #D2E3FC;\n",
              "    }\n",
              "\n",
              "    [theme=dark] .colab-df-convert:hover {\n",
              "      background-color: #434B5C;\n",
              "      box-shadow: 0px 1px 3px 1px rgba(0, 0, 0, 0.15);\n",
              "      filter: drop-shadow(0px 1px 2px rgba(0, 0, 0, 0.3));\n",
              "      fill: #FFFFFF;\n",
              "    }\n",
              "  </style>\n",
              "\n",
              "    <script>\n",
              "      const buttonEl =\n",
              "        document.querySelector('#df-c83cd57b-2386-486d-a2bb-9abe378b0507 button.colab-df-convert');\n",
              "      buttonEl.style.display =\n",
              "        google.colab.kernel.accessAllowed ? 'block' : 'none';\n",
              "\n",
              "      async function convertToInteractive(key) {\n",
              "        const element = document.querySelector('#df-c83cd57b-2386-486d-a2bb-9abe378b0507');\n",
              "        const dataTable =\n",
              "          await google.colab.kernel.invokeFunction('convertToInteractive',\n",
              "                                                    [key], {});\n",
              "        if (!dataTable) return;\n",
              "\n",
              "        const docLinkHtml = 'Like what you see? Visit the ' +\n",
              "          '<a target=\"_blank\" href=https://colab.research.google.com/notebooks/data_table.ipynb>data table notebook</a>'\n",
              "          + ' to learn more about interactive tables.';\n",
              "        element.innerHTML = '';\n",
              "        dataTable['output_type'] = 'display_data';\n",
              "        await google.colab.output.renderOutput(dataTable, element);\n",
              "        const docLink = document.createElement('div');\n",
              "        docLink.innerHTML = docLinkHtml;\n",
              "        element.appendChild(docLink);\n",
              "      }\n",
              "    </script>\n",
              "  </div>\n",
              "\n",
              "\n",
              "    <div id=\"df-2f883346-5bd3-40ca-a2e8-3a63da0e8c7c\">\n",
              "      <button class=\"colab-df-quickchart\" onclick=\"quickchart('df-2f883346-5bd3-40ca-a2e8-3a63da0e8c7c')\"\n",
              "                title=\"Suggest charts\"\n",
              "                style=\"display:none;\">\n",
              "\n",
              "<svg xmlns=\"http://www.w3.org/2000/svg\" height=\"24px\"viewBox=\"0 0 24 24\"\n",
              "     width=\"24px\">\n",
              "    <g>\n",
              "        <path d=\"M19 3H5c-1.1 0-2 .9-2 2v14c0 1.1.9 2 2 2h14c1.1 0 2-.9 2-2V5c0-1.1-.9-2-2-2zM9 17H7v-7h2v7zm4 0h-2V7h2v10zm4 0h-2v-4h2v4z\"/>\n",
              "    </g>\n",
              "</svg>\n",
              "      </button>\n",
              "\n",
              "<style>\n",
              "  .colab-df-quickchart {\n",
              "      --bg-color: #E8F0FE;\n",
              "      --fill-color: #1967D2;\n",
              "      --hover-bg-color: #E2EBFA;\n",
              "      --hover-fill-color: #174EA6;\n",
              "      --disabled-fill-color: #AAA;\n",
              "      --disabled-bg-color: #DDD;\n",
              "  }\n",
              "\n",
              "  [theme=dark] .colab-df-quickchart {\n",
              "      --bg-color: #3B4455;\n",
              "      --fill-color: #D2E3FC;\n",
              "      --hover-bg-color: #434B5C;\n",
              "      --hover-fill-color: #FFFFFF;\n",
              "      --disabled-bg-color: #3B4455;\n",
              "      --disabled-fill-color: #666;\n",
              "  }\n",
              "\n",
              "  .colab-df-quickchart {\n",
              "    background-color: var(--bg-color);\n",
              "    border: none;\n",
              "    border-radius: 50%;\n",
              "    cursor: pointer;\n",
              "    display: none;\n",
              "    fill: var(--fill-color);\n",
              "    height: 32px;\n",
              "    padding: 0;\n",
              "    width: 32px;\n",
              "  }\n",
              "\n",
              "  .colab-df-quickchart:hover {\n",
              "    background-color: var(--hover-bg-color);\n",
              "    box-shadow: 0 1px 2px rgba(60, 64, 67, 0.3), 0 1px 3px 1px rgba(60, 64, 67, 0.15);\n",
              "    fill: var(--button-hover-fill-color);\n",
              "  }\n",
              "\n",
              "  .colab-df-quickchart-complete:disabled,\n",
              "  .colab-df-quickchart-complete:disabled:hover {\n",
              "    background-color: var(--disabled-bg-color);\n",
              "    fill: var(--disabled-fill-color);\n",
              "    box-shadow: none;\n",
              "  }\n",
              "\n",
              "  .colab-df-spinner {\n",
              "    border: 2px solid var(--fill-color);\n",
              "    border-color: transparent;\n",
              "    border-bottom-color: var(--fill-color);\n",
              "    animation:\n",
              "      spin 1s steps(1) infinite;\n",
              "  }\n",
              "\n",
              "  @keyframes spin {\n",
              "    0% {\n",
              "      border-color: transparent;\n",
              "      border-bottom-color: var(--fill-color);\n",
              "      border-left-color: var(--fill-color);\n",
              "    }\n",
              "    20% {\n",
              "      border-color: transparent;\n",
              "      border-left-color: var(--fill-color);\n",
              "      border-top-color: var(--fill-color);\n",
              "    }\n",
              "    30% {\n",
              "      border-color: transparent;\n",
              "      border-left-color: var(--fill-color);\n",
              "      border-top-color: var(--fill-color);\n",
              "      border-right-color: var(--fill-color);\n",
              "    }\n",
              "    40% {\n",
              "      border-color: transparent;\n",
              "      border-right-color: var(--fill-color);\n",
              "      border-top-color: var(--fill-color);\n",
              "    }\n",
              "    60% {\n",
              "      border-color: transparent;\n",
              "      border-right-color: var(--fill-color);\n",
              "    }\n",
              "    80% {\n",
              "      border-color: transparent;\n",
              "      border-right-color: var(--fill-color);\n",
              "      border-bottom-color: var(--fill-color);\n",
              "    }\n",
              "    90% {\n",
              "      border-color: transparent;\n",
              "      border-bottom-color: var(--fill-color);\n",
              "    }\n",
              "  }\n",
              "</style>\n",
              "\n",
              "      <script>\n",
              "        async function quickchart(key) {\n",
              "          const quickchartButtonEl =\n",
              "            document.querySelector('#' + key + ' button');\n",
              "          quickchartButtonEl.disabled = true;  // To prevent multiple clicks.\n",
              "          quickchartButtonEl.classList.add('colab-df-spinner');\n",
              "          try {\n",
              "            const charts = await google.colab.kernel.invokeFunction(\n",
              "                'suggestCharts', [key], {});\n",
              "          } catch (error) {\n",
              "            console.error('Error during call to suggestCharts:', error);\n",
              "          }\n",
              "          quickchartButtonEl.classList.remove('colab-df-spinner');\n",
              "          quickchartButtonEl.classList.add('colab-df-quickchart-complete');\n",
              "        }\n",
              "        (() => {\n",
              "          let quickchartButtonEl =\n",
              "            document.querySelector('#df-2f883346-5bd3-40ca-a2e8-3a63da0e8c7c button');\n",
              "          quickchartButtonEl.style.display =\n",
              "            google.colab.kernel.accessAllowed ? 'block' : 'none';\n",
              "        })();\n",
              "      </script>\n",
              "    </div>\n",
              "\n",
              "  <div id=\"id_ef236929-d76c-4734-a8d2-664acdf3b66c\">\n",
              "    <style>\n",
              "      .colab-df-generate {\n",
              "        background-color: #E8F0FE;\n",
              "        border: none;\n",
              "        border-radius: 50%;\n",
              "        cursor: pointer;\n",
              "        display: none;\n",
              "        fill: #1967D2;\n",
              "        height: 32px;\n",
              "        padding: 0 0 0 0;\n",
              "        width: 32px;\n",
              "      }\n",
              "\n",
              "      .colab-df-generate:hover {\n",
              "        background-color: #E2EBFA;\n",
              "        box-shadow: 0px 1px 2px rgba(60, 64, 67, 0.3), 0px 1px 3px 1px rgba(60, 64, 67, 0.15);\n",
              "        fill: #174EA6;\n",
              "      }\n",
              "\n",
              "      [theme=dark] .colab-df-generate {\n",
              "        background-color: #3B4455;\n",
              "        fill: #D2E3FC;\n",
              "      }\n",
              "\n",
              "      [theme=dark] .colab-df-generate:hover {\n",
              "        background-color: #434B5C;\n",
              "        box-shadow: 0px 1px 3px 1px rgba(0, 0, 0, 0.15);\n",
              "        filter: drop-shadow(0px 1px 2px rgba(0, 0, 0, 0.3));\n",
              "        fill: #FFFFFF;\n",
              "      }\n",
              "    </style>\n",
              "    <button class=\"colab-df-generate\" onclick=\"generateWithVariable('Viewers_Analysis')\"\n",
              "            title=\"Generate code using this dataframe.\"\n",
              "            style=\"display:none;\">\n",
              "\n",
              "  <svg xmlns=\"http://www.w3.org/2000/svg\" height=\"24px\"viewBox=\"0 0 24 24\"\n",
              "       width=\"24px\">\n",
              "    <path d=\"M7,19H8.4L18.45,9,17,7.55,7,17.6ZM5,21V16.75L18.45,3.32a2,2,0,0,1,2.83,0l1.4,1.43a1.91,1.91,0,0,1,.58,1.4,1.91,1.91,0,0,1-.58,1.4L9.25,21ZM18.45,9,17,7.55Zm-12,3A5.31,5.31,0,0,0,4.9,8.1,5.31,5.31,0,0,0,1,6.5,5.31,5.31,0,0,0,4.9,4.9,5.31,5.31,0,0,0,6.5,1,5.31,5.31,0,0,0,8.1,4.9,5.31,5.31,0,0,0,12,6.5,5.46,5.46,0,0,0,6.5,12Z\"/>\n",
              "  </svg>\n",
              "    </button>\n",
              "    <script>\n",
              "      (() => {\n",
              "      const buttonEl =\n",
              "        document.querySelector('#id_ef236929-d76c-4734-a8d2-664acdf3b66c button.colab-df-generate');\n",
              "      buttonEl.style.display =\n",
              "        google.colab.kernel.accessAllowed ? 'block' : 'none';\n",
              "\n",
              "      buttonEl.onclick = () => {\n",
              "        google.colab.notebook.generateWithVariable('Viewers_Analysis');\n",
              "      }\n",
              "      })();\n",
              "    </script>\n",
              "  </div>\n",
              "\n",
              "    </div>\n",
              "  </div>\n"
            ],
            "application/vnd.google.colaboratory.intrinsic+json": {
              "type": "dataframe",
              "variable_name": "Viewers_Analysis"
            }
          },
          "metadata": {}
        }
      ]
    },
    {
      "cell_type": "markdown",
      "source": [
        "**3. Exploratory Data Analysis (EDA)**\n"
      ],
      "metadata": {
        "id": "6dcszFIR2tO0"
      }
    },
    {
      "cell_type": "code",
      "source": [
        "# Returns a tuple in a format of number of rows and columns of the dataframe\n",
        "df.shape"
      ],
      "metadata": {
        "colab": {
          "base_uri": "https://localhost:8080/"
        },
        "id": "XvzlkB-Euayi",
        "outputId": "232337f0-da4f-4670-eca6-ebcd9b26cbf2"
      },
      "execution_count": 10,
      "outputs": [
        {
          "output_type": "execute_result",
          "data": {
            "text/plain": [
              "(118534, 6)"
            ]
          },
          "metadata": {},
          "execution_count": 10
        }
      ]
    },
    {
      "cell_type": "markdown",
      "source": [
        "**Observations**\n",
        "\n",
        "*  The dataset has 118534 rows\n",
        "*  The dataset has 6 columns\n",
        "\n"
      ],
      "metadata": {
        "id": "aeKP397f5S3U"
      }
    },
    {
      "cell_type": "code",
      "source": [
        "# Showing the first (10) rows of dataframe\n",
        "df.head(10)"
      ],
      "metadata": {
        "id": "YB9MDCmE3VyM",
        "colab": {
          "base_uri": "https://localhost:8080/",
          "height": 363
        },
        "outputId": "b4594d14-7a11-4d10-ae68-13584232361e"
      },
      "execution_count": 11,
      "outputs": [
        {
          "output_type": "execute_result",
          "data": {
            "text/plain": [
              "     DateID                    CustomerID  TotalTimeWatched  Platform  \\\n",
              "0  20201101  EW1DENH0EC1J3M9WAOZF9LSV004O               300  Leanback   \n",
              "1  20201101  EW1DENH0EC1J3M9WAOZF9LSV004O               300  Leanback   \n",
              "2  20201101  6TS2LLY0L3G66FVY86Q0JEZE000K               360  Leanback   \n",
              "3  20201101  6TS2LLY0L3G66FVY86Q0JEZE000K               360  Leanback   \n",
              "4  20201101  6PMV67PLJ2S47S68J0Y30XFK003C               120  Leanback   \n",
              "5  20201101  6PMV67PLJ2S47S68J0Y30XFK003C               120  Leanback   \n",
              "6  20201101  6PMV67PLJ2S47S68J0Y30XFK003C               120       iOS   \n",
              "7  20201101  6PMV67PLJ2S47S68J0Y30XFK003C               120       iOS   \n",
              "8  20201101  6PMV67PLJ2S47S68J0Y30XFK003C                60       iOS   \n",
              "9  20201101  6PMV67PLJ2S47S68J0Y30XFK003C               600       iOS   \n",
              "\n",
              "  PlayEventType                   VideoTitle  \n",
              "0        LiveTV    F1 '20: Emilia Romagna GP  \n",
              "1        LiveTV    F1 '20: Emilia Romagna GP  \n",
              "2         Other              Chasing The Sun  \n",
              "3         Other              Chasing The Sun  \n",
              "4        LiveTV           Sonic The Hedgehog  \n",
              "5        LiveTV                    Frozen II  \n",
              "6        LiveTV  PL 20/21: Man Utd v Arsenal  \n",
              "7        LiveTV  PL 20/21: Man Utd v Arsenal  \n",
              "8        LiveTV    F1 '20: Emilia Romagna GP  \n",
              "9        LiveTV    F1 '20: Emilia Romagna GP  "
            ],
            "text/html": [
              "\n",
              "  <div id=\"df-06a0f2a5-07c4-425c-a030-45f4885174ee\" class=\"colab-df-container\">\n",
              "    <div>\n",
              "<style scoped>\n",
              "    .dataframe tbody tr th:only-of-type {\n",
              "        vertical-align: middle;\n",
              "    }\n",
              "\n",
              "    .dataframe tbody tr th {\n",
              "        vertical-align: top;\n",
              "    }\n",
              "\n",
              "    .dataframe thead th {\n",
              "        text-align: right;\n",
              "    }\n",
              "</style>\n",
              "<table border=\"1\" class=\"dataframe\">\n",
              "  <thead>\n",
              "    <tr style=\"text-align: right;\">\n",
              "      <th></th>\n",
              "      <th>DateID</th>\n",
              "      <th>CustomerID</th>\n",
              "      <th>TotalTimeWatched</th>\n",
              "      <th>Platform</th>\n",
              "      <th>PlayEventType</th>\n",
              "      <th>VideoTitle</th>\n",
              "    </tr>\n",
              "  </thead>\n",
              "  <tbody>\n",
              "    <tr>\n",
              "      <th>0</th>\n",
              "      <td>20201101</td>\n",
              "      <td>EW1DENH0EC1J3M9WAOZF9LSV004O</td>\n",
              "      <td>300</td>\n",
              "      <td>Leanback</td>\n",
              "      <td>LiveTV</td>\n",
              "      <td>F1 '20: Emilia Romagna GP</td>\n",
              "    </tr>\n",
              "    <tr>\n",
              "      <th>1</th>\n",
              "      <td>20201101</td>\n",
              "      <td>EW1DENH0EC1J3M9WAOZF9LSV004O</td>\n",
              "      <td>300</td>\n",
              "      <td>Leanback</td>\n",
              "      <td>LiveTV</td>\n",
              "      <td>F1 '20: Emilia Romagna GP</td>\n",
              "    </tr>\n",
              "    <tr>\n",
              "      <th>2</th>\n",
              "      <td>20201101</td>\n",
              "      <td>6TS2LLY0L3G66FVY86Q0JEZE000K</td>\n",
              "      <td>360</td>\n",
              "      <td>Leanback</td>\n",
              "      <td>Other</td>\n",
              "      <td>Chasing The Sun</td>\n",
              "    </tr>\n",
              "    <tr>\n",
              "      <th>3</th>\n",
              "      <td>20201101</td>\n",
              "      <td>6TS2LLY0L3G66FVY86Q0JEZE000K</td>\n",
              "      <td>360</td>\n",
              "      <td>Leanback</td>\n",
              "      <td>Other</td>\n",
              "      <td>Chasing The Sun</td>\n",
              "    </tr>\n",
              "    <tr>\n",
              "      <th>4</th>\n",
              "      <td>20201101</td>\n",
              "      <td>6PMV67PLJ2S47S68J0Y30XFK003C</td>\n",
              "      <td>120</td>\n",
              "      <td>Leanback</td>\n",
              "      <td>LiveTV</td>\n",
              "      <td>Sonic The Hedgehog</td>\n",
              "    </tr>\n",
              "    <tr>\n",
              "      <th>5</th>\n",
              "      <td>20201101</td>\n",
              "      <td>6PMV67PLJ2S47S68J0Y30XFK003C</td>\n",
              "      <td>120</td>\n",
              "      <td>Leanback</td>\n",
              "      <td>LiveTV</td>\n",
              "      <td>Frozen II</td>\n",
              "    </tr>\n",
              "    <tr>\n",
              "      <th>6</th>\n",
              "      <td>20201101</td>\n",
              "      <td>6PMV67PLJ2S47S68J0Y30XFK003C</td>\n",
              "      <td>120</td>\n",
              "      <td>iOS</td>\n",
              "      <td>LiveTV</td>\n",
              "      <td>PL 20/21: Man Utd v Arsenal</td>\n",
              "    </tr>\n",
              "    <tr>\n",
              "      <th>7</th>\n",
              "      <td>20201101</td>\n",
              "      <td>6PMV67PLJ2S47S68J0Y30XFK003C</td>\n",
              "      <td>120</td>\n",
              "      <td>iOS</td>\n",
              "      <td>LiveTV</td>\n",
              "      <td>PL 20/21: Man Utd v Arsenal</td>\n",
              "    </tr>\n",
              "    <tr>\n",
              "      <th>8</th>\n",
              "      <td>20201101</td>\n",
              "      <td>6PMV67PLJ2S47S68J0Y30XFK003C</td>\n",
              "      <td>60</td>\n",
              "      <td>iOS</td>\n",
              "      <td>LiveTV</td>\n",
              "      <td>F1 '20: Emilia Romagna GP</td>\n",
              "    </tr>\n",
              "    <tr>\n",
              "      <th>9</th>\n",
              "      <td>20201101</td>\n",
              "      <td>6PMV67PLJ2S47S68J0Y30XFK003C</td>\n",
              "      <td>600</td>\n",
              "      <td>iOS</td>\n",
              "      <td>LiveTV</td>\n",
              "      <td>F1 '20: Emilia Romagna GP</td>\n",
              "    </tr>\n",
              "  </tbody>\n",
              "</table>\n",
              "</div>\n",
              "    <div class=\"colab-df-buttons\">\n",
              "\n",
              "  <div class=\"colab-df-container\">\n",
              "    <button class=\"colab-df-convert\" onclick=\"convertToInteractive('df-06a0f2a5-07c4-425c-a030-45f4885174ee')\"\n",
              "            title=\"Convert this dataframe to an interactive table.\"\n",
              "            style=\"display:none;\">\n",
              "\n",
              "  <svg xmlns=\"http://www.w3.org/2000/svg\" height=\"24px\" viewBox=\"0 -960 960 960\">\n",
              "    <path d=\"M120-120v-720h720v720H120Zm60-500h600v-160H180v160Zm220 220h160v-160H400v160Zm0 220h160v-160H400v160ZM180-400h160v-160H180v160Zm440 0h160v-160H620v160ZM180-180h160v-160H180v160Zm440 0h160v-160H620v160Z\"/>\n",
              "  </svg>\n",
              "    </button>\n",
              "\n",
              "  <style>\n",
              "    .colab-df-container {\n",
              "      display:flex;\n",
              "      gap: 12px;\n",
              "    }\n",
              "\n",
              "    .colab-df-convert {\n",
              "      background-color: #E8F0FE;\n",
              "      border: none;\n",
              "      border-radius: 50%;\n",
              "      cursor: pointer;\n",
              "      display: none;\n",
              "      fill: #1967D2;\n",
              "      height: 32px;\n",
              "      padding: 0 0 0 0;\n",
              "      width: 32px;\n",
              "    }\n",
              "\n",
              "    .colab-df-convert:hover {\n",
              "      background-color: #E2EBFA;\n",
              "      box-shadow: 0px 1px 2px rgba(60, 64, 67, 0.3), 0px 1px 3px 1px rgba(60, 64, 67, 0.15);\n",
              "      fill: #174EA6;\n",
              "    }\n",
              "\n",
              "    .colab-df-buttons div {\n",
              "      margin-bottom: 4px;\n",
              "    }\n",
              "\n",
              "    [theme=dark] .colab-df-convert {\n",
              "      background-color: #3B4455;\n",
              "      fill: #D2E3FC;\n",
              "    }\n",
              "\n",
              "    [theme=dark] .colab-df-convert:hover {\n",
              "      background-color: #434B5C;\n",
              "      box-shadow: 0px 1px 3px 1px rgba(0, 0, 0, 0.15);\n",
              "      filter: drop-shadow(0px 1px 2px rgba(0, 0, 0, 0.3));\n",
              "      fill: #FFFFFF;\n",
              "    }\n",
              "  </style>\n",
              "\n",
              "    <script>\n",
              "      const buttonEl =\n",
              "        document.querySelector('#df-06a0f2a5-07c4-425c-a030-45f4885174ee button.colab-df-convert');\n",
              "      buttonEl.style.display =\n",
              "        google.colab.kernel.accessAllowed ? 'block' : 'none';\n",
              "\n",
              "      async function convertToInteractive(key) {\n",
              "        const element = document.querySelector('#df-06a0f2a5-07c4-425c-a030-45f4885174ee');\n",
              "        const dataTable =\n",
              "          await google.colab.kernel.invokeFunction('convertToInteractive',\n",
              "                                                    [key], {});\n",
              "        if (!dataTable) return;\n",
              "\n",
              "        const docLinkHtml = 'Like what you see? Visit the ' +\n",
              "          '<a target=\"_blank\" href=https://colab.research.google.com/notebooks/data_table.ipynb>data table notebook</a>'\n",
              "          + ' to learn more about interactive tables.';\n",
              "        element.innerHTML = '';\n",
              "        dataTable['output_type'] = 'display_data';\n",
              "        await google.colab.output.renderOutput(dataTable, element);\n",
              "        const docLink = document.createElement('div');\n",
              "        docLink.innerHTML = docLinkHtml;\n",
              "        element.appendChild(docLink);\n",
              "      }\n",
              "    </script>\n",
              "  </div>\n",
              "\n",
              "\n",
              "    <div id=\"df-eca031c4-d0f2-4568-8c7f-b7417a6a34a4\">\n",
              "      <button class=\"colab-df-quickchart\" onclick=\"quickchart('df-eca031c4-d0f2-4568-8c7f-b7417a6a34a4')\"\n",
              "                title=\"Suggest charts\"\n",
              "                style=\"display:none;\">\n",
              "\n",
              "<svg xmlns=\"http://www.w3.org/2000/svg\" height=\"24px\"viewBox=\"0 0 24 24\"\n",
              "     width=\"24px\">\n",
              "    <g>\n",
              "        <path d=\"M19 3H5c-1.1 0-2 .9-2 2v14c0 1.1.9 2 2 2h14c1.1 0 2-.9 2-2V5c0-1.1-.9-2-2-2zM9 17H7v-7h2v7zm4 0h-2V7h2v10zm4 0h-2v-4h2v4z\"/>\n",
              "    </g>\n",
              "</svg>\n",
              "      </button>\n",
              "\n",
              "<style>\n",
              "  .colab-df-quickchart {\n",
              "      --bg-color: #E8F0FE;\n",
              "      --fill-color: #1967D2;\n",
              "      --hover-bg-color: #E2EBFA;\n",
              "      --hover-fill-color: #174EA6;\n",
              "      --disabled-fill-color: #AAA;\n",
              "      --disabled-bg-color: #DDD;\n",
              "  }\n",
              "\n",
              "  [theme=dark] .colab-df-quickchart {\n",
              "      --bg-color: #3B4455;\n",
              "      --fill-color: #D2E3FC;\n",
              "      --hover-bg-color: #434B5C;\n",
              "      --hover-fill-color: #FFFFFF;\n",
              "      --disabled-bg-color: #3B4455;\n",
              "      --disabled-fill-color: #666;\n",
              "  }\n",
              "\n",
              "  .colab-df-quickchart {\n",
              "    background-color: var(--bg-color);\n",
              "    border: none;\n",
              "    border-radius: 50%;\n",
              "    cursor: pointer;\n",
              "    display: none;\n",
              "    fill: var(--fill-color);\n",
              "    height: 32px;\n",
              "    padding: 0;\n",
              "    width: 32px;\n",
              "  }\n",
              "\n",
              "  .colab-df-quickchart:hover {\n",
              "    background-color: var(--hover-bg-color);\n",
              "    box-shadow: 0 1px 2px rgba(60, 64, 67, 0.3), 0 1px 3px 1px rgba(60, 64, 67, 0.15);\n",
              "    fill: var(--button-hover-fill-color);\n",
              "  }\n",
              "\n",
              "  .colab-df-quickchart-complete:disabled,\n",
              "  .colab-df-quickchart-complete:disabled:hover {\n",
              "    background-color: var(--disabled-bg-color);\n",
              "    fill: var(--disabled-fill-color);\n",
              "    box-shadow: none;\n",
              "  }\n",
              "\n",
              "  .colab-df-spinner {\n",
              "    border: 2px solid var(--fill-color);\n",
              "    border-color: transparent;\n",
              "    border-bottom-color: var(--fill-color);\n",
              "    animation:\n",
              "      spin 1s steps(1) infinite;\n",
              "  }\n",
              "\n",
              "  @keyframes spin {\n",
              "    0% {\n",
              "      border-color: transparent;\n",
              "      border-bottom-color: var(--fill-color);\n",
              "      border-left-color: var(--fill-color);\n",
              "    }\n",
              "    20% {\n",
              "      border-color: transparent;\n",
              "      border-left-color: var(--fill-color);\n",
              "      border-top-color: var(--fill-color);\n",
              "    }\n",
              "    30% {\n",
              "      border-color: transparent;\n",
              "      border-left-color: var(--fill-color);\n",
              "      border-top-color: var(--fill-color);\n",
              "      border-right-color: var(--fill-color);\n",
              "    }\n",
              "    40% {\n",
              "      border-color: transparent;\n",
              "      border-right-color: var(--fill-color);\n",
              "      border-top-color: var(--fill-color);\n",
              "    }\n",
              "    60% {\n",
              "      border-color: transparent;\n",
              "      border-right-color: var(--fill-color);\n",
              "    }\n",
              "    80% {\n",
              "      border-color: transparent;\n",
              "      border-right-color: var(--fill-color);\n",
              "      border-bottom-color: var(--fill-color);\n",
              "    }\n",
              "    90% {\n",
              "      border-color: transparent;\n",
              "      border-bottom-color: var(--fill-color);\n",
              "    }\n",
              "  }\n",
              "</style>\n",
              "\n",
              "      <script>\n",
              "        async function quickchart(key) {\n",
              "          const quickchartButtonEl =\n",
              "            document.querySelector('#' + key + ' button');\n",
              "          quickchartButtonEl.disabled = true;  // To prevent multiple clicks.\n",
              "          quickchartButtonEl.classList.add('colab-df-spinner');\n",
              "          try {\n",
              "            const charts = await google.colab.kernel.invokeFunction(\n",
              "                'suggestCharts', [key], {});\n",
              "          } catch (error) {\n",
              "            console.error('Error during call to suggestCharts:', error);\n",
              "          }\n",
              "          quickchartButtonEl.classList.remove('colab-df-spinner');\n",
              "          quickchartButtonEl.classList.add('colab-df-quickchart-complete');\n",
              "        }\n",
              "        (() => {\n",
              "          let quickchartButtonEl =\n",
              "            document.querySelector('#df-eca031c4-d0f2-4568-8c7f-b7417a6a34a4 button');\n",
              "          quickchartButtonEl.style.display =\n",
              "            google.colab.kernel.accessAllowed ? 'block' : 'none';\n",
              "        })();\n",
              "      </script>\n",
              "    </div>\n",
              "\n",
              "    </div>\n",
              "  </div>\n"
            ],
            "application/vnd.google.colaboratory.intrinsic+json": {
              "type": "dataframe",
              "variable_name": "df"
            }
          },
          "metadata": {},
          "execution_count": 11
        }
      ]
    },
    {
      "cell_type": "markdown",
      "source": [
        "**Observations**\n",
        "* Function gives the first rows of a dataframe,\n",
        "  in this example have selected first 10 rows\n",
        "\n"
      ],
      "metadata": {
        "id": "yqPm83Be5yG7"
      }
    },
    {
      "cell_type": "code",
      "source": [
        "# Showing the last (8) rows of dataframe\n",
        "Viewers_Analysis.tail(8)"
      ],
      "metadata": {
        "id": "QugdB9Kg3Vbg",
        "colab": {
          "base_uri": "https://localhost:8080/",
          "height": 335
        },
        "outputId": "e3a6b736-8f2c-4cbf-dc39-477c883ad9a9"
      },
      "execution_count": 12,
      "outputs": [
        {
          "output_type": "execute_result",
          "data": {
            "text/plain": [
              "          DateID                    CustomerID  TotalTimeWatched  Platform  \\\n",
              "118526  20210416  HQLC2AR9CR5KG6F9CKXXJLHY003D               238       iOS   \n",
              "118527  20210416  HQLC2AR9CR5KG6F9CKXXJLHY003D              2641  Leanback   \n",
              "118528  20210416  M1NMIW7FFTPM0V2SMBJAAT8P005I              2460  Leanback   \n",
              "118529  20210416  DGXM5TJ18W1LANOLKJJN5MFT000G               600  Leanback   \n",
              "118530  20210416  DMMVDBZFDT1F7WL4BGWQ5KOJ000G              5194       Web   \n",
              "118531  20210416  1JKBIAY7MEUH6BWX0SCU93GJ000I             47660       Web   \n",
              "118532  20210416  1ADX18R3B33REZ2T0NK911E4002W              1335  Leanback   \n",
              "118533  20210416  BO0REPHA6FP7C15B0K9N1GVO0050               360       iOS   \n",
              "\n",
              "       PlayEventType                           VideoTitle  \n",
              "118526        LiveTV                          PL Build Up  \n",
              "118527        LiveTV        PL 20/21: Everton v Tottenham  \n",
              "118528        LiveTV                              Unknown  \n",
              "118529        LiveTV                              New Day  \n",
              "118530        LiveTV  Buying And Selling With Property...  \n",
              "118531        LiveTV                             Expresso  \n",
              "118532        LiveTV                              Unknown  \n",
              "118533        LiveTV                               Imbewu  "
            ],
            "text/html": [
              "\n",
              "  <div id=\"df-635c52ee-35cc-461d-8d44-4b6d1aa02fa3\" class=\"colab-df-container\">\n",
              "    <div>\n",
              "<style scoped>\n",
              "    .dataframe tbody tr th:only-of-type {\n",
              "        vertical-align: middle;\n",
              "    }\n",
              "\n",
              "    .dataframe tbody tr th {\n",
              "        vertical-align: top;\n",
              "    }\n",
              "\n",
              "    .dataframe thead th {\n",
              "        text-align: right;\n",
              "    }\n",
              "</style>\n",
              "<table border=\"1\" class=\"dataframe\">\n",
              "  <thead>\n",
              "    <tr style=\"text-align: right;\">\n",
              "      <th></th>\n",
              "      <th>DateID</th>\n",
              "      <th>CustomerID</th>\n",
              "      <th>TotalTimeWatched</th>\n",
              "      <th>Platform</th>\n",
              "      <th>PlayEventType</th>\n",
              "      <th>VideoTitle</th>\n",
              "    </tr>\n",
              "  </thead>\n",
              "  <tbody>\n",
              "    <tr>\n",
              "      <th>118526</th>\n",
              "      <td>20210416</td>\n",
              "      <td>HQLC2AR9CR5KG6F9CKXXJLHY003D</td>\n",
              "      <td>238</td>\n",
              "      <td>iOS</td>\n",
              "      <td>LiveTV</td>\n",
              "      <td>PL Build Up</td>\n",
              "    </tr>\n",
              "    <tr>\n",
              "      <th>118527</th>\n",
              "      <td>20210416</td>\n",
              "      <td>HQLC2AR9CR5KG6F9CKXXJLHY003D</td>\n",
              "      <td>2641</td>\n",
              "      <td>Leanback</td>\n",
              "      <td>LiveTV</td>\n",
              "      <td>PL 20/21: Everton v Tottenham</td>\n",
              "    </tr>\n",
              "    <tr>\n",
              "      <th>118528</th>\n",
              "      <td>20210416</td>\n",
              "      <td>M1NMIW7FFTPM0V2SMBJAAT8P005I</td>\n",
              "      <td>2460</td>\n",
              "      <td>Leanback</td>\n",
              "      <td>LiveTV</td>\n",
              "      <td>Unknown</td>\n",
              "    </tr>\n",
              "    <tr>\n",
              "      <th>118529</th>\n",
              "      <td>20210416</td>\n",
              "      <td>DGXM5TJ18W1LANOLKJJN5MFT000G</td>\n",
              "      <td>600</td>\n",
              "      <td>Leanback</td>\n",
              "      <td>LiveTV</td>\n",
              "      <td>New Day</td>\n",
              "    </tr>\n",
              "    <tr>\n",
              "      <th>118530</th>\n",
              "      <td>20210416</td>\n",
              "      <td>DMMVDBZFDT1F7WL4BGWQ5KOJ000G</td>\n",
              "      <td>5194</td>\n",
              "      <td>Web</td>\n",
              "      <td>LiveTV</td>\n",
              "      <td>Buying And Selling With Property...</td>\n",
              "    </tr>\n",
              "    <tr>\n",
              "      <th>118531</th>\n",
              "      <td>20210416</td>\n",
              "      <td>1JKBIAY7MEUH6BWX0SCU93GJ000I</td>\n",
              "      <td>47660</td>\n",
              "      <td>Web</td>\n",
              "      <td>LiveTV</td>\n",
              "      <td>Expresso</td>\n",
              "    </tr>\n",
              "    <tr>\n",
              "      <th>118532</th>\n",
              "      <td>20210416</td>\n",
              "      <td>1ADX18R3B33REZ2T0NK911E4002W</td>\n",
              "      <td>1335</td>\n",
              "      <td>Leanback</td>\n",
              "      <td>LiveTV</td>\n",
              "      <td>Unknown</td>\n",
              "    </tr>\n",
              "    <tr>\n",
              "      <th>118533</th>\n",
              "      <td>20210416</td>\n",
              "      <td>BO0REPHA6FP7C15B0K9N1GVO0050</td>\n",
              "      <td>360</td>\n",
              "      <td>iOS</td>\n",
              "      <td>LiveTV</td>\n",
              "      <td>Imbewu</td>\n",
              "    </tr>\n",
              "  </tbody>\n",
              "</table>\n",
              "</div>\n",
              "    <div class=\"colab-df-buttons\">\n",
              "\n",
              "  <div class=\"colab-df-container\">\n",
              "    <button class=\"colab-df-convert\" onclick=\"convertToInteractive('df-635c52ee-35cc-461d-8d44-4b6d1aa02fa3')\"\n",
              "            title=\"Convert this dataframe to an interactive table.\"\n",
              "            style=\"display:none;\">\n",
              "\n",
              "  <svg xmlns=\"http://www.w3.org/2000/svg\" height=\"24px\" viewBox=\"0 -960 960 960\">\n",
              "    <path d=\"M120-120v-720h720v720H120Zm60-500h600v-160H180v160Zm220 220h160v-160H400v160Zm0 220h160v-160H400v160ZM180-400h160v-160H180v160Zm440 0h160v-160H620v160ZM180-180h160v-160H180v160Zm440 0h160v-160H620v160Z\"/>\n",
              "  </svg>\n",
              "    </button>\n",
              "\n",
              "  <style>\n",
              "    .colab-df-container {\n",
              "      display:flex;\n",
              "      gap: 12px;\n",
              "    }\n",
              "\n",
              "    .colab-df-convert {\n",
              "      background-color: #E8F0FE;\n",
              "      border: none;\n",
              "      border-radius: 50%;\n",
              "      cursor: pointer;\n",
              "      display: none;\n",
              "      fill: #1967D2;\n",
              "      height: 32px;\n",
              "      padding: 0 0 0 0;\n",
              "      width: 32px;\n",
              "    }\n",
              "\n",
              "    .colab-df-convert:hover {\n",
              "      background-color: #E2EBFA;\n",
              "      box-shadow: 0px 1px 2px rgba(60, 64, 67, 0.3), 0px 1px 3px 1px rgba(60, 64, 67, 0.15);\n",
              "      fill: #174EA6;\n",
              "    }\n",
              "\n",
              "    .colab-df-buttons div {\n",
              "      margin-bottom: 4px;\n",
              "    }\n",
              "\n",
              "    [theme=dark] .colab-df-convert {\n",
              "      background-color: #3B4455;\n",
              "      fill: #D2E3FC;\n",
              "    }\n",
              "\n",
              "    [theme=dark] .colab-df-convert:hover {\n",
              "      background-color: #434B5C;\n",
              "      box-shadow: 0px 1px 3px 1px rgba(0, 0, 0, 0.15);\n",
              "      filter: drop-shadow(0px 1px 2px rgba(0, 0, 0, 0.3));\n",
              "      fill: #FFFFFF;\n",
              "    }\n",
              "  </style>\n",
              "\n",
              "    <script>\n",
              "      const buttonEl =\n",
              "        document.querySelector('#df-635c52ee-35cc-461d-8d44-4b6d1aa02fa3 button.colab-df-convert');\n",
              "      buttonEl.style.display =\n",
              "        google.colab.kernel.accessAllowed ? 'block' : 'none';\n",
              "\n",
              "      async function convertToInteractive(key) {\n",
              "        const element = document.querySelector('#df-635c52ee-35cc-461d-8d44-4b6d1aa02fa3');\n",
              "        const dataTable =\n",
              "          await google.colab.kernel.invokeFunction('convertToInteractive',\n",
              "                                                    [key], {});\n",
              "        if (!dataTable) return;\n",
              "\n",
              "        const docLinkHtml = 'Like what you see? Visit the ' +\n",
              "          '<a target=\"_blank\" href=https://colab.research.google.com/notebooks/data_table.ipynb>data table notebook</a>'\n",
              "          + ' to learn more about interactive tables.';\n",
              "        element.innerHTML = '';\n",
              "        dataTable['output_type'] = 'display_data';\n",
              "        await google.colab.output.renderOutput(dataTable, element);\n",
              "        const docLink = document.createElement('div');\n",
              "        docLink.innerHTML = docLinkHtml;\n",
              "        element.appendChild(docLink);\n",
              "      }\n",
              "    </script>\n",
              "  </div>\n",
              "\n",
              "\n",
              "    <div id=\"df-11ea579d-2d7a-456d-87c6-4b7c83aa9b55\">\n",
              "      <button class=\"colab-df-quickchart\" onclick=\"quickchart('df-11ea579d-2d7a-456d-87c6-4b7c83aa9b55')\"\n",
              "                title=\"Suggest charts\"\n",
              "                style=\"display:none;\">\n",
              "\n",
              "<svg xmlns=\"http://www.w3.org/2000/svg\" height=\"24px\"viewBox=\"0 0 24 24\"\n",
              "     width=\"24px\">\n",
              "    <g>\n",
              "        <path d=\"M19 3H5c-1.1 0-2 .9-2 2v14c0 1.1.9 2 2 2h14c1.1 0 2-.9 2-2V5c0-1.1-.9-2-2-2zM9 17H7v-7h2v7zm4 0h-2V7h2v10zm4 0h-2v-4h2v4z\"/>\n",
              "    </g>\n",
              "</svg>\n",
              "      </button>\n",
              "\n",
              "<style>\n",
              "  .colab-df-quickchart {\n",
              "      --bg-color: #E8F0FE;\n",
              "      --fill-color: #1967D2;\n",
              "      --hover-bg-color: #E2EBFA;\n",
              "      --hover-fill-color: #174EA6;\n",
              "      --disabled-fill-color: #AAA;\n",
              "      --disabled-bg-color: #DDD;\n",
              "  }\n",
              "\n",
              "  [theme=dark] .colab-df-quickchart {\n",
              "      --bg-color: #3B4455;\n",
              "      --fill-color: #D2E3FC;\n",
              "      --hover-bg-color: #434B5C;\n",
              "      --hover-fill-color: #FFFFFF;\n",
              "      --disabled-bg-color: #3B4455;\n",
              "      --disabled-fill-color: #666;\n",
              "  }\n",
              "\n",
              "  .colab-df-quickchart {\n",
              "    background-color: var(--bg-color);\n",
              "    border: none;\n",
              "    border-radius: 50%;\n",
              "    cursor: pointer;\n",
              "    display: none;\n",
              "    fill: var(--fill-color);\n",
              "    height: 32px;\n",
              "    padding: 0;\n",
              "    width: 32px;\n",
              "  }\n",
              "\n",
              "  .colab-df-quickchart:hover {\n",
              "    background-color: var(--hover-bg-color);\n",
              "    box-shadow: 0 1px 2px rgba(60, 64, 67, 0.3), 0 1px 3px 1px rgba(60, 64, 67, 0.15);\n",
              "    fill: var(--button-hover-fill-color);\n",
              "  }\n",
              "\n",
              "  .colab-df-quickchart-complete:disabled,\n",
              "  .colab-df-quickchart-complete:disabled:hover {\n",
              "    background-color: var(--disabled-bg-color);\n",
              "    fill: var(--disabled-fill-color);\n",
              "    box-shadow: none;\n",
              "  }\n",
              "\n",
              "  .colab-df-spinner {\n",
              "    border: 2px solid var(--fill-color);\n",
              "    border-color: transparent;\n",
              "    border-bottom-color: var(--fill-color);\n",
              "    animation:\n",
              "      spin 1s steps(1) infinite;\n",
              "  }\n",
              "\n",
              "  @keyframes spin {\n",
              "    0% {\n",
              "      border-color: transparent;\n",
              "      border-bottom-color: var(--fill-color);\n",
              "      border-left-color: var(--fill-color);\n",
              "    }\n",
              "    20% {\n",
              "      border-color: transparent;\n",
              "      border-left-color: var(--fill-color);\n",
              "      border-top-color: var(--fill-color);\n",
              "    }\n",
              "    30% {\n",
              "      border-color: transparent;\n",
              "      border-left-color: var(--fill-color);\n",
              "      border-top-color: var(--fill-color);\n",
              "      border-right-color: var(--fill-color);\n",
              "    }\n",
              "    40% {\n",
              "      border-color: transparent;\n",
              "      border-right-color: var(--fill-color);\n",
              "      border-top-color: var(--fill-color);\n",
              "    }\n",
              "    60% {\n",
              "      border-color: transparent;\n",
              "      border-right-color: var(--fill-color);\n",
              "    }\n",
              "    80% {\n",
              "      border-color: transparent;\n",
              "      border-right-color: var(--fill-color);\n",
              "      border-bottom-color: var(--fill-color);\n",
              "    }\n",
              "    90% {\n",
              "      border-color: transparent;\n",
              "      border-bottom-color: var(--fill-color);\n",
              "    }\n",
              "  }\n",
              "</style>\n",
              "\n",
              "      <script>\n",
              "        async function quickchart(key) {\n",
              "          const quickchartButtonEl =\n",
              "            document.querySelector('#' + key + ' button');\n",
              "          quickchartButtonEl.disabled = true;  // To prevent multiple clicks.\n",
              "          quickchartButtonEl.classList.add('colab-df-spinner');\n",
              "          try {\n",
              "            const charts = await google.colab.kernel.invokeFunction(\n",
              "                'suggestCharts', [key], {});\n",
              "          } catch (error) {\n",
              "            console.error('Error during call to suggestCharts:', error);\n",
              "          }\n",
              "          quickchartButtonEl.classList.remove('colab-df-spinner');\n",
              "          quickchartButtonEl.classList.add('colab-df-quickchart-complete');\n",
              "        }\n",
              "        (() => {\n",
              "          let quickchartButtonEl =\n",
              "            document.querySelector('#df-11ea579d-2d7a-456d-87c6-4b7c83aa9b55 button');\n",
              "          quickchartButtonEl.style.display =\n",
              "            google.colab.kernel.accessAllowed ? 'block' : 'none';\n",
              "        })();\n",
              "      </script>\n",
              "    </div>\n",
              "\n",
              "    </div>\n",
              "  </div>\n"
            ],
            "application/vnd.google.colaboratory.intrinsic+json": {
              "type": "dataframe",
              "summary": "{\n  \"name\": \"Viewers_Analysis\",\n  \"rows\": 8,\n  \"fields\": [\n    {\n      \"column\": \"DateID\",\n      \"properties\": {\n        \"dtype\": \"number\",\n        \"std\": 0,\n        \"min\": 20210416,\n        \"max\": 20210416,\n        \"num_unique_values\": 1,\n        \"samples\": [\n          20210416\n        ],\n        \"semantic_type\": \"\",\n        \"description\": \"\"\n      }\n    },\n    {\n      \"column\": \"CustomerID\",\n      \"properties\": {\n        \"dtype\": \"string\",\n        \"num_unique_values\": 7,\n        \"samples\": [\n          \"HQLC2AR9CR5KG6F9CKXXJLHY003D\"\n        ],\n        \"semantic_type\": \"\",\n        \"description\": \"\"\n      }\n    },\n    {\n      \"column\": \"TotalTimeWatched\",\n      \"properties\": {\n        \"dtype\": \"number\",\n        \"std\": 16285,\n        \"min\": 238,\n        \"max\": 47660,\n        \"num_unique_values\": 8,\n        \"samples\": [\n          2641\n        ],\n        \"semantic_type\": \"\",\n        \"description\": \"\"\n      }\n    },\n    {\n      \"column\": \"Platform\",\n      \"properties\": {\n        \"dtype\": \"category\",\n        \"num_unique_values\": 3,\n        \"samples\": [\n          \"iOS\"\n        ],\n        \"semantic_type\": \"\",\n        \"description\": \"\"\n      }\n    },\n    {\n      \"column\": \"PlayEventType\",\n      \"properties\": {\n        \"dtype\": \"category\",\n        \"num_unique_values\": 1,\n        \"samples\": [\n          \"LiveTV\"\n        ],\n        \"semantic_type\": \"\",\n        \"description\": \"\"\n      }\n    },\n    {\n      \"column\": \"VideoTitle\",\n      \"properties\": {\n        \"dtype\": \"string\",\n        \"num_unique_values\": 7,\n        \"samples\": [\n          \"PL Build Up\"\n        ],\n        \"semantic_type\": \"\",\n        \"description\": \"\"\n      }\n    }\n  ]\n}"
            }
          },
          "metadata": {},
          "execution_count": 12
        }
      ]
    },
    {
      "cell_type": "markdown",
      "source": [
        "**Observations**\n",
        "\n",
        "* This function gives the last rows of a dataframe,\n",
        "  in this example have selected first 8 rows\n",
        "\n"
      ],
      "metadata": {
        "id": "LLGavq7W61KA"
      }
    },
    {
      "cell_type": "code",
      "source": [
        "# Gives statistical numerical columns in your dataset\n",
        "df.describe()"
      ],
      "metadata": {
        "colab": {
          "base_uri": "https://localhost:8080/",
          "height": 300
        },
        "id": "OCNQ3-g1zJ2z",
        "outputId": "470eedda-6fab-4883-a488-598634164be5"
      },
      "execution_count": 13,
      "outputs": [
        {
          "output_type": "execute_result",
          "data": {
            "text/plain": [
              "             DateID  TotalTimeWatched\n",
              "count  1.185340e+05     118534.000000\n",
              "mean   2.020945e+07       2046.869860\n",
              "std    2.583117e+03       3735.512071\n",
              "min    2.020110e+07          1.000000\n",
              "25%    2.021012e+07        240.000000\n",
              "50%    2.021022e+07       1020.000000\n",
              "75%    2.021032e+07       2400.000000\n",
              "max    2.021042e+07      88500.000000"
            ],
            "text/html": [
              "\n",
              "  <div id=\"df-a0a3e878-5af9-42a9-9357-4b178d122571\" class=\"colab-df-container\">\n",
              "    <div>\n",
              "<style scoped>\n",
              "    .dataframe tbody tr th:only-of-type {\n",
              "        vertical-align: middle;\n",
              "    }\n",
              "\n",
              "    .dataframe tbody tr th {\n",
              "        vertical-align: top;\n",
              "    }\n",
              "\n",
              "    .dataframe thead th {\n",
              "        text-align: right;\n",
              "    }\n",
              "</style>\n",
              "<table border=\"1\" class=\"dataframe\">\n",
              "  <thead>\n",
              "    <tr style=\"text-align: right;\">\n",
              "      <th></th>\n",
              "      <th>DateID</th>\n",
              "      <th>TotalTimeWatched</th>\n",
              "    </tr>\n",
              "  </thead>\n",
              "  <tbody>\n",
              "    <tr>\n",
              "      <th>count</th>\n",
              "      <td>1.185340e+05</td>\n",
              "      <td>118534.000000</td>\n",
              "    </tr>\n",
              "    <tr>\n",
              "      <th>mean</th>\n",
              "      <td>2.020945e+07</td>\n",
              "      <td>2046.869860</td>\n",
              "    </tr>\n",
              "    <tr>\n",
              "      <th>std</th>\n",
              "      <td>2.583117e+03</td>\n",
              "      <td>3735.512071</td>\n",
              "    </tr>\n",
              "    <tr>\n",
              "      <th>min</th>\n",
              "      <td>2.020110e+07</td>\n",
              "      <td>1.000000</td>\n",
              "    </tr>\n",
              "    <tr>\n",
              "      <th>25%</th>\n",
              "      <td>2.021012e+07</td>\n",
              "      <td>240.000000</td>\n",
              "    </tr>\n",
              "    <tr>\n",
              "      <th>50%</th>\n",
              "      <td>2.021022e+07</td>\n",
              "      <td>1020.000000</td>\n",
              "    </tr>\n",
              "    <tr>\n",
              "      <th>75%</th>\n",
              "      <td>2.021032e+07</td>\n",
              "      <td>2400.000000</td>\n",
              "    </tr>\n",
              "    <tr>\n",
              "      <th>max</th>\n",
              "      <td>2.021042e+07</td>\n",
              "      <td>88500.000000</td>\n",
              "    </tr>\n",
              "  </tbody>\n",
              "</table>\n",
              "</div>\n",
              "    <div class=\"colab-df-buttons\">\n",
              "\n",
              "  <div class=\"colab-df-container\">\n",
              "    <button class=\"colab-df-convert\" onclick=\"convertToInteractive('df-a0a3e878-5af9-42a9-9357-4b178d122571')\"\n",
              "            title=\"Convert this dataframe to an interactive table.\"\n",
              "            style=\"display:none;\">\n",
              "\n",
              "  <svg xmlns=\"http://www.w3.org/2000/svg\" height=\"24px\" viewBox=\"0 -960 960 960\">\n",
              "    <path d=\"M120-120v-720h720v720H120Zm60-500h600v-160H180v160Zm220 220h160v-160H400v160Zm0 220h160v-160H400v160ZM180-400h160v-160H180v160Zm440 0h160v-160H620v160ZM180-180h160v-160H180v160Zm440 0h160v-160H620v160Z\"/>\n",
              "  </svg>\n",
              "    </button>\n",
              "\n",
              "  <style>\n",
              "    .colab-df-container {\n",
              "      display:flex;\n",
              "      gap: 12px;\n",
              "    }\n",
              "\n",
              "    .colab-df-convert {\n",
              "      background-color: #E8F0FE;\n",
              "      border: none;\n",
              "      border-radius: 50%;\n",
              "      cursor: pointer;\n",
              "      display: none;\n",
              "      fill: #1967D2;\n",
              "      height: 32px;\n",
              "      padding: 0 0 0 0;\n",
              "      width: 32px;\n",
              "    }\n",
              "\n",
              "    .colab-df-convert:hover {\n",
              "      background-color: #E2EBFA;\n",
              "      box-shadow: 0px 1px 2px rgba(60, 64, 67, 0.3), 0px 1px 3px 1px rgba(60, 64, 67, 0.15);\n",
              "      fill: #174EA6;\n",
              "    }\n",
              "\n",
              "    .colab-df-buttons div {\n",
              "      margin-bottom: 4px;\n",
              "    }\n",
              "\n",
              "    [theme=dark] .colab-df-convert {\n",
              "      background-color: #3B4455;\n",
              "      fill: #D2E3FC;\n",
              "    }\n",
              "\n",
              "    [theme=dark] .colab-df-convert:hover {\n",
              "      background-color: #434B5C;\n",
              "      box-shadow: 0px 1px 3px 1px rgba(0, 0, 0, 0.15);\n",
              "      filter: drop-shadow(0px 1px 2px rgba(0, 0, 0, 0.3));\n",
              "      fill: #FFFFFF;\n",
              "    }\n",
              "  </style>\n",
              "\n",
              "    <script>\n",
              "      const buttonEl =\n",
              "        document.querySelector('#df-a0a3e878-5af9-42a9-9357-4b178d122571 button.colab-df-convert');\n",
              "      buttonEl.style.display =\n",
              "        google.colab.kernel.accessAllowed ? 'block' : 'none';\n",
              "\n",
              "      async function convertToInteractive(key) {\n",
              "        const element = document.querySelector('#df-a0a3e878-5af9-42a9-9357-4b178d122571');\n",
              "        const dataTable =\n",
              "          await google.colab.kernel.invokeFunction('convertToInteractive',\n",
              "                                                    [key], {});\n",
              "        if (!dataTable) return;\n",
              "\n",
              "        const docLinkHtml = 'Like what you see? Visit the ' +\n",
              "          '<a target=\"_blank\" href=https://colab.research.google.com/notebooks/data_table.ipynb>data table notebook</a>'\n",
              "          + ' to learn more about interactive tables.';\n",
              "        element.innerHTML = '';\n",
              "        dataTable['output_type'] = 'display_data';\n",
              "        await google.colab.output.renderOutput(dataTable, element);\n",
              "        const docLink = document.createElement('div');\n",
              "        docLink.innerHTML = docLinkHtml;\n",
              "        element.appendChild(docLink);\n",
              "      }\n",
              "    </script>\n",
              "  </div>\n",
              "\n",
              "\n",
              "    <div id=\"df-212208c4-19ba-4f24-87bf-dbb8dcf236b5\">\n",
              "      <button class=\"colab-df-quickchart\" onclick=\"quickchart('df-212208c4-19ba-4f24-87bf-dbb8dcf236b5')\"\n",
              "                title=\"Suggest charts\"\n",
              "                style=\"display:none;\">\n",
              "\n",
              "<svg xmlns=\"http://www.w3.org/2000/svg\" height=\"24px\"viewBox=\"0 0 24 24\"\n",
              "     width=\"24px\">\n",
              "    <g>\n",
              "        <path d=\"M19 3H5c-1.1 0-2 .9-2 2v14c0 1.1.9 2 2 2h14c1.1 0 2-.9 2-2V5c0-1.1-.9-2-2-2zM9 17H7v-7h2v7zm4 0h-2V7h2v10zm4 0h-2v-4h2v4z\"/>\n",
              "    </g>\n",
              "</svg>\n",
              "      </button>\n",
              "\n",
              "<style>\n",
              "  .colab-df-quickchart {\n",
              "      --bg-color: #E8F0FE;\n",
              "      --fill-color: #1967D2;\n",
              "      --hover-bg-color: #E2EBFA;\n",
              "      --hover-fill-color: #174EA6;\n",
              "      --disabled-fill-color: #AAA;\n",
              "      --disabled-bg-color: #DDD;\n",
              "  }\n",
              "\n",
              "  [theme=dark] .colab-df-quickchart {\n",
              "      --bg-color: #3B4455;\n",
              "      --fill-color: #D2E3FC;\n",
              "      --hover-bg-color: #434B5C;\n",
              "      --hover-fill-color: #FFFFFF;\n",
              "      --disabled-bg-color: #3B4455;\n",
              "      --disabled-fill-color: #666;\n",
              "  }\n",
              "\n",
              "  .colab-df-quickchart {\n",
              "    background-color: var(--bg-color);\n",
              "    border: none;\n",
              "    border-radius: 50%;\n",
              "    cursor: pointer;\n",
              "    display: none;\n",
              "    fill: var(--fill-color);\n",
              "    height: 32px;\n",
              "    padding: 0;\n",
              "    width: 32px;\n",
              "  }\n",
              "\n",
              "  .colab-df-quickchart:hover {\n",
              "    background-color: var(--hover-bg-color);\n",
              "    box-shadow: 0 1px 2px rgba(60, 64, 67, 0.3), 0 1px 3px 1px rgba(60, 64, 67, 0.15);\n",
              "    fill: var(--button-hover-fill-color);\n",
              "  }\n",
              "\n",
              "  .colab-df-quickchart-complete:disabled,\n",
              "  .colab-df-quickchart-complete:disabled:hover {\n",
              "    background-color: var(--disabled-bg-color);\n",
              "    fill: var(--disabled-fill-color);\n",
              "    box-shadow: none;\n",
              "  }\n",
              "\n",
              "  .colab-df-spinner {\n",
              "    border: 2px solid var(--fill-color);\n",
              "    border-color: transparent;\n",
              "    border-bottom-color: var(--fill-color);\n",
              "    animation:\n",
              "      spin 1s steps(1) infinite;\n",
              "  }\n",
              "\n",
              "  @keyframes spin {\n",
              "    0% {\n",
              "      border-color: transparent;\n",
              "      border-bottom-color: var(--fill-color);\n",
              "      border-left-color: var(--fill-color);\n",
              "    }\n",
              "    20% {\n",
              "      border-color: transparent;\n",
              "      border-left-color: var(--fill-color);\n",
              "      border-top-color: var(--fill-color);\n",
              "    }\n",
              "    30% {\n",
              "      border-color: transparent;\n",
              "      border-left-color: var(--fill-color);\n",
              "      border-top-color: var(--fill-color);\n",
              "      border-right-color: var(--fill-color);\n",
              "    }\n",
              "    40% {\n",
              "      border-color: transparent;\n",
              "      border-right-color: var(--fill-color);\n",
              "      border-top-color: var(--fill-color);\n",
              "    }\n",
              "    60% {\n",
              "      border-color: transparent;\n",
              "      border-right-color: var(--fill-color);\n",
              "    }\n",
              "    80% {\n",
              "      border-color: transparent;\n",
              "      border-right-color: var(--fill-color);\n",
              "      border-bottom-color: var(--fill-color);\n",
              "    }\n",
              "    90% {\n",
              "      border-color: transparent;\n",
              "      border-bottom-color: var(--fill-color);\n",
              "    }\n",
              "  }\n",
              "</style>\n",
              "\n",
              "      <script>\n",
              "        async function quickchart(key) {\n",
              "          const quickchartButtonEl =\n",
              "            document.querySelector('#' + key + ' button');\n",
              "          quickchartButtonEl.disabled = true;  // To prevent multiple clicks.\n",
              "          quickchartButtonEl.classList.add('colab-df-spinner');\n",
              "          try {\n",
              "            const charts = await google.colab.kernel.invokeFunction(\n",
              "                'suggestCharts', [key], {});\n",
              "          } catch (error) {\n",
              "            console.error('Error during call to suggestCharts:', error);\n",
              "          }\n",
              "          quickchartButtonEl.classList.remove('colab-df-spinner');\n",
              "          quickchartButtonEl.classList.add('colab-df-quickchart-complete');\n",
              "        }\n",
              "        (() => {\n",
              "          let quickchartButtonEl =\n",
              "            document.querySelector('#df-212208c4-19ba-4f24-87bf-dbb8dcf236b5 button');\n",
              "          quickchartButtonEl.style.display =\n",
              "            google.colab.kernel.accessAllowed ? 'block' : 'none';\n",
              "        })();\n",
              "      </script>\n",
              "    </div>\n",
              "\n",
              "    </div>\n",
              "  </div>\n"
            ],
            "application/vnd.google.colaboratory.intrinsic+json": {
              "type": "dataframe",
              "summary": "{\n  \"name\": \"df\",\n  \"rows\": 8,\n  \"fields\": [\n    {\n      \"column\": \"DateID\",\n      \"properties\": {\n        \"dtype\": \"number\",\n        \"std\": 9326785.71913244,\n        \"min\": 2583.1174875245556,\n        \"max\": 20210416.0,\n        \"num_unique_values\": 8,\n        \"samples\": [\n          20209449.886226736,\n          20210222.0,\n          118534.0\n        ],\n        \"semantic_type\": \"\",\n        \"description\": \"\"\n      }\n    },\n    {\n      \"column\": \"TotalTimeWatched\",\n      \"properties\": {\n        \"dtype\": \"number\",\n        \"std\": 47883.42059136389,\n        \"min\": 1.0,\n        \"max\": 118534.0,\n        \"num_unique_values\": 8,\n        \"samples\": [\n          2046.8698601245212,\n          1020.0,\n          118534.0\n        ],\n        \"semantic_type\": \"\",\n        \"description\": \"\"\n      }\n    }\n  ]\n}"
            }
          },
          "metadata": {},
          "execution_count": 13
        }
      ]
    },
    {
      "cell_type": "markdown",
      "source": [
        "**Observations**\n",
        "\n",
        "*  **count**  : The number of non-null values\n",
        "*  **mean**   : The average value.\n",
        "*   **max**    : The maximum value etc\n",
        "\n"
      ],
      "metadata": {
        "id": "RsX0W7kX_Zuk"
      }
    },
    {
      "cell_type": "code",
      "source": [
        "# Gives column names with the datatype of each column\n",
        "df.dtypes"
      ],
      "metadata": {
        "colab": {
          "base_uri": "https://localhost:8080/",
          "height": 272
        },
        "id": "ZeAqsx900jDL",
        "outputId": "e2cc7d1d-9dec-47a9-8008-ea2d16a51ad6"
      },
      "execution_count": 14,
      "outputs": [
        {
          "output_type": "execute_result",
          "data": {
            "text/plain": [
              "DateID               int64\n",
              "CustomerID          object\n",
              "TotalTimeWatched     int64\n",
              "Platform            object\n",
              "PlayEventType       object\n",
              "VideoTitle          object\n",
              "dtype: object"
            ],
            "text/html": [
              "<div>\n",
              "<style scoped>\n",
              "    .dataframe tbody tr th:only-of-type {\n",
              "        vertical-align: middle;\n",
              "    }\n",
              "\n",
              "    .dataframe tbody tr th {\n",
              "        vertical-align: top;\n",
              "    }\n",
              "\n",
              "    .dataframe thead th {\n",
              "        text-align: right;\n",
              "    }\n",
              "</style>\n",
              "<table border=\"1\" class=\"dataframe\">\n",
              "  <thead>\n",
              "    <tr style=\"text-align: right;\">\n",
              "      <th></th>\n",
              "      <th>0</th>\n",
              "    </tr>\n",
              "  </thead>\n",
              "  <tbody>\n",
              "    <tr>\n",
              "      <th>DateID</th>\n",
              "      <td>int64</td>\n",
              "    </tr>\n",
              "    <tr>\n",
              "      <th>CustomerID</th>\n",
              "      <td>object</td>\n",
              "    </tr>\n",
              "    <tr>\n",
              "      <th>TotalTimeWatched</th>\n",
              "      <td>int64</td>\n",
              "    </tr>\n",
              "    <tr>\n",
              "      <th>Platform</th>\n",
              "      <td>object</td>\n",
              "    </tr>\n",
              "    <tr>\n",
              "      <th>PlayEventType</th>\n",
              "      <td>object</td>\n",
              "    </tr>\n",
              "    <tr>\n",
              "      <th>VideoTitle</th>\n",
              "      <td>object</td>\n",
              "    </tr>\n",
              "  </tbody>\n",
              "</table>\n",
              "</div><br><label><b>dtype:</b> object</label>"
            ]
          },
          "metadata": {},
          "execution_count": 14
        }
      ]
    },
    {
      "cell_type": "markdown",
      "source": [
        "**Observations**\n",
        "\n",
        "*   DateID column is an integer datatype\n",
        "*   CustomerID column is object\n",
        "*   TotalTimeWatched column is integer\n",
        "*   Platform is an object\n",
        "*   PlayEventType is an object\n",
        "*   VideoTitle is object\n",
        "\n",
        "\n",
        "\n",
        "\n",
        "\n"
      ],
      "metadata": {
        "id": "Y_PTLvllBGrV"
      }
    },
    {
      "cell_type": "code",
      "source": [
        "# counts the number of NULLS\n",
        "df.isnull().sum()"
      ],
      "metadata": {
        "colab": {
          "base_uri": "https://localhost:8080/",
          "height": 272
        },
        "id": "DUNKvPJl1hpb",
        "outputId": "ab02cd4b-eddd-4138-f2ee-bd47bda4eb0c"
      },
      "execution_count": 15,
      "outputs": [
        {
          "output_type": "execute_result",
          "data": {
            "text/plain": [
              "DateID              0\n",
              "CustomerID          0\n",
              "TotalTimeWatched    0\n",
              "Platform            0\n",
              "PlayEventType       0\n",
              "VideoTitle          0\n",
              "dtype: int64"
            ],
            "text/html": [
              "<div>\n",
              "<style scoped>\n",
              "    .dataframe tbody tr th:only-of-type {\n",
              "        vertical-align: middle;\n",
              "    }\n",
              "\n",
              "    .dataframe tbody tr th {\n",
              "        vertical-align: top;\n",
              "    }\n",
              "\n",
              "    .dataframe thead th {\n",
              "        text-align: right;\n",
              "    }\n",
              "</style>\n",
              "<table border=\"1\" class=\"dataframe\">\n",
              "  <thead>\n",
              "    <tr style=\"text-align: right;\">\n",
              "      <th></th>\n",
              "      <th>0</th>\n",
              "    </tr>\n",
              "  </thead>\n",
              "  <tbody>\n",
              "    <tr>\n",
              "      <th>DateID</th>\n",
              "      <td>0</td>\n",
              "    </tr>\n",
              "    <tr>\n",
              "      <th>CustomerID</th>\n",
              "      <td>0</td>\n",
              "    </tr>\n",
              "    <tr>\n",
              "      <th>TotalTimeWatched</th>\n",
              "      <td>0</td>\n",
              "    </tr>\n",
              "    <tr>\n",
              "      <th>Platform</th>\n",
              "      <td>0</td>\n",
              "    </tr>\n",
              "    <tr>\n",
              "      <th>PlayEventType</th>\n",
              "      <td>0</td>\n",
              "    </tr>\n",
              "    <tr>\n",
              "      <th>VideoTitle</th>\n",
              "      <td>0</td>\n",
              "    </tr>\n",
              "  </tbody>\n",
              "</table>\n",
              "</div><br><label><b>dtype:</b> int64</label>"
            ]
          },
          "metadata": {},
          "execution_count": 15
        }
      ]
    },
    {
      "cell_type": "markdown",
      "source": [
        "**Observations**\n",
        "The dataset doesn't contain any null values, thats why it returned 0 on each column\n",
        "\n",
        "---\n",
        "\n"
      ],
      "metadata": {
        "id": "UK0-4GJ-ECtt"
      }
    },
    {
      "cell_type": "code",
      "source": [
        "#Used to retrieve concise/ brief summary of a dataset\n",
        "df.info()"
      ],
      "metadata": {
        "colab": {
          "base_uri": "https://localhost:8080/"
        },
        "id": "oeQ8cAfiFhq3",
        "outputId": "5015c79c-e029-4648-f8c4-be1b498e313d"
      },
      "execution_count": 16,
      "outputs": [
        {
          "output_type": "stream",
          "name": "stdout",
          "text": [
            "<class 'pandas.core.frame.DataFrame'>\n",
            "RangeIndex: 118534 entries, 0 to 118533\n",
            "Data columns (total 6 columns):\n",
            " #   Column            Non-Null Count   Dtype \n",
            "---  ------            --------------   ----- \n",
            " 0   DateID            118534 non-null  int64 \n",
            " 1   CustomerID        118534 non-null  object\n",
            " 2   TotalTimeWatched  118534 non-null  int64 \n",
            " 3   Platform          118534 non-null  object\n",
            " 4   PlayEventType     118534 non-null  object\n",
            " 5   VideoTitle        118534 non-null  object\n",
            "dtypes: int64(2), object(4)\n",
            "memory usage: 5.4+ MB\n"
          ]
        }
      ]
    },
    {
      "cell_type": "markdown",
      "source": [
        "**Observations**\n",
        "\n",
        "*  Output quickly reveals the number of rows, columns, data types, and presence of missing values in each column, along with the memory footprint of the Dataframe.\n",
        "\n"
      ],
      "metadata": {
        "id": "GExI0KCCFnHr"
      }
    },
    {
      "cell_type": "code",
      "source": [
        "# displays the dataset\n",
        "print(Viewers_Analysis)"
      ],
      "metadata": {
        "colab": {
          "base_uri": "https://localhost:8080/"
        },
        "id": "l8e9GgvjK6yd",
        "outputId": "95c738ba-4e27-4bc4-e129-a13f2e5eae16"
      },
      "execution_count": 17,
      "outputs": [
        {
          "output_type": "stream",
          "name": "stdout",
          "text": [
            "          DateID                    CustomerID  TotalTimeWatched  Platform  \\\n",
            "0       20201101  EW1DENH0EC1J3M9WAOZF9LSV004O               300  Leanback   \n",
            "1       20201101  EW1DENH0EC1J3M9WAOZF9LSV004O               300  Leanback   \n",
            "2       20201101  6TS2LLY0L3G66FVY86Q0JEZE000K               360  Leanback   \n",
            "3       20201101  6TS2LLY0L3G66FVY86Q0JEZE000K               360  Leanback   \n",
            "4       20201101  6PMV67PLJ2S47S68J0Y30XFK003C               120  Leanback   \n",
            "...          ...                           ...               ...       ...   \n",
            "118529  20210416  DGXM5TJ18W1LANOLKJJN5MFT000G               600  Leanback   \n",
            "118530  20210416  DMMVDBZFDT1F7WL4BGWQ5KOJ000G              5194       Web   \n",
            "118531  20210416  1JKBIAY7MEUH6BWX0SCU93GJ000I             47660       Web   \n",
            "118532  20210416  1ADX18R3B33REZ2T0NK911E4002W              1335  Leanback   \n",
            "118533  20210416  BO0REPHA6FP7C15B0K9N1GVO0050               360       iOS   \n",
            "\n",
            "       PlayEventType                           VideoTitle  \n",
            "0             LiveTV            F1 '20: Emilia Romagna GP  \n",
            "1             LiveTV            F1 '20: Emilia Romagna GP  \n",
            "2              Other                      Chasing The Sun  \n",
            "3              Other                      Chasing The Sun  \n",
            "4             LiveTV                   Sonic The Hedgehog  \n",
            "...              ...                                  ...  \n",
            "118529        LiveTV                              New Day  \n",
            "118530        LiveTV  Buying And Selling With Property...  \n",
            "118531        LiveTV                             Expresso  \n",
            "118532        LiveTV                              Unknown  \n",
            "118533        LiveTV                               Imbewu  \n",
            "\n",
            "[118534 rows x 6 columns]\n"
          ]
        }
      ]
    },
    {
      "cell_type": "code",
      "source": [
        "# used to display dataset\n",
        "print(df)"
      ],
      "metadata": {
        "id": "TMBoGveNLgMy"
      },
      "execution_count": null,
      "outputs": []
    },
    {
      "cell_type": "code",
      "source": [
        "# counting the total duplicate rows\n",
        "df.duplicated().sum()"
      ],
      "metadata": {
        "colab": {
          "base_uri": "https://localhost:8080/"
        },
        "id": "HHdL_355G5Em",
        "outputId": "be86205e-8775-4cfd-f79a-f54c9b74f4df"
      },
      "execution_count": 19,
      "outputs": [
        {
          "output_type": "execute_result",
          "data": {
            "text/plain": [
              "np.int64(9873)"
            ]
          },
          "metadata": {},
          "execution_count": 19
        }
      ]
    },
    {
      "cell_type": "markdown",
      "source": [
        "**Observations**\n",
        "\n",
        "*   Used to count the total of duplicate rows in a dataframe\n",
        "*   In this dataframe there is 9873 duplicates.\n",
        "\n",
        "\n"
      ],
      "metadata": {
        "id": "CR6TZSXiHxKt"
      }
    },
    {
      "cell_type": "code",
      "source": [
        "# tells us the length of a string\n",
        "print(len(Viewers_Analysis))\n"
      ],
      "metadata": {
        "colab": {
          "base_uri": "https://localhost:8080/"
        },
        "id": "3dKZl0N-IzFq",
        "outputId": "2782dc99-15f7-4fdb-c458-9337e59411a8"
      },
      "execution_count": 20,
      "outputs": [
        {
          "output_type": "stream",
          "name": "stdout",
          "text": [
            "118534\n"
          ]
        }
      ]
    },
    {
      "cell_type": "markdown",
      "source": [
        "**Observations**\n",
        "* the length of the dataset has 118534\n",
        "\n"
      ],
      "metadata": {
        "id": "9ILTYCFHifPg"
      }
    },
    {
      "cell_type": "code",
      "source": [
        "# Convert DateID to Date format\n",
        "df['DateID'] = pd.to_datetime(df['DateID'],format='%Y%m%d')\n",
        "display (df)"
      ],
      "metadata": {
        "id": "TOl5s8bMieNn"
      },
      "execution_count": null,
      "outputs": []
    },
    {
      "cell_type": "markdown",
      "source": [
        "**Observations**\n",
        "*   DateID converted to date format YYYY-MM-DD\n",
        "\n"
      ],
      "metadata": {
        "id": "r2-ryM4tj4ZR"
      }
    },
    {
      "cell_type": "code",
      "source": [
        "# ✅ 6. Saving the updated data\n",
        "df.to_csv(\"updated_data.csv\", index=False)\n",
        "display(df)"
      ],
      "metadata": {
        "id": "hTVlzBgOkgeR"
      },
      "execution_count": null,
      "outputs": []
    },
    {
      "cell_type": "markdown",
      "source": [
        "**Observations**\n",
        "\n",
        "*  Saved the updated dataset, with the changed date format\n",
        "\n",
        "\n",
        "\n"
      ],
      "metadata": {
        "id": "0unaI6B7k8op"
      }
    },
    {
      "cell_type": "code",
      "source": [
        "# Counting the different platforms used\n",
        "print(df['Platform'].value_counts())\n",
        "display(df)"
      ],
      "metadata": {
        "id": "0gcJCyb7lJgr"
      },
      "execution_count": null,
      "outputs": []
    },
    {
      "cell_type": "markdown",
      "source": [
        "**Observations**\n",
        "*  Counting each platform used in the dataset\n",
        "\n"
      ],
      "metadata": {
        "id": "rY9zt16xmaz3"
      }
    },
    {
      "cell_type": "code",
      "source": [
        "# Remove exact duplicate rows\n",
        "df_cleaned = df.drop_duplicates()\n",
        "print(df_cleaned)"
      ],
      "metadata": {
        "id": "vdkBa1vOk73M"
      },
      "execution_count": null,
      "outputs": []
    },
    {
      "cell_type": "markdown",
      "source": [
        "**Observations**\n",
        "*  Removed rows that are an exact duplicate to others\n",
        "\n"
      ],
      "metadata": {
        "id": "wM_VcM37m7lg"
      }
    },
    {
      "cell_type": "code",
      "source": [
        " # Saving a new CSV file with no duplicated rows\n",
        "df_cleaned.to_csv('cleaned_output.csv', index=False)\n",
        "display (df_cleaned)"
      ],
      "metadata": {
        "id": "ZRu0yOO9nMV5"
      },
      "execution_count": null,
      "outputs": []
    },
    {
      "cell_type": "code",
      "source": [
        "#Counting the different platforms used in the updated dataset\n",
        "print(df_cleaned['Platform'].value_counts())\n",
        "display(df_cleaned)"
      ],
      "metadata": {
        "id": "P7Fxzzwzp281"
      },
      "execution_count": null,
      "outputs": []
    },
    {
      "cell_type": "markdown",
      "source": [
        "**Observations**\n",
        "\n",
        "*   Noted that the count of the different Platforms used changed after removing duplicates\n",
        "\n",
        "*  **Leanback** with difference of 6291 # meaning there was 6291 duplicated rows\n",
        "* **Web** difference of 1817 # meaning 1817 duplicated rows\n",
        "*  **Android** difference 1615 # meaning 1615 duplicated rows\n",
        "*  **iOS** difference  of 150 # meaning 150 duplicated rows\n",
        "\n",
        "\n",
        "\n",
        "\n",
        "\n"
      ],
      "metadata": {
        "id": "i0QSDTZ9qwK8"
      }
    },
    {
      "cell_type": "code",
      "source": [
        "# Convert TotalTimeWatched from seconds to hours\n",
        "df_cleaned[\"TotalTimeWatched_Hours\"] = df_cleaned[\"TotalTimeWatched\"] / 3600\n",
        "# Round to 2 decimal places to be readable\n",
        "df_cleaned[\"TotalTimeWatched_Hours\"] = df_cleaned[\"TotalTimeWatched_Hours\"].round(2)\n",
        "df_cleaned.to_csv(\"clean_dataset.csv\", index=False)\n",
        "print (df_cleaned[\"TotalTimeWatched_Hours\"])\n",
        "display(df_cleaned)"
      ],
      "metadata": {
        "id": "zgi265rTGmeO"
      },
      "execution_count": null,
      "outputs": []
    },
    {
      "cell_type": "markdown",
      "source": [
        "**Observations**\n",
        "*   Converted TotalTimeWatched from seconds to hours, for readability\n",
        "*   Rounded the number to 2\n",
        "*   Saved the new updated dataset\n",
        "\n",
        "\n",
        "\n"
      ],
      "metadata": {
        "id": "8auIZQl5IxuQ"
      }
    },
    {
      "cell_type": "code",
      "source": [
        "print(df_cleaned.groupby('CustomerID')['TotalTimeWatched_Hours'].sum().sort_values(ascending=False))\n",
        "display(df_cleaned)"
      ],
      "metadata": {
        "id": "L3B1XbAesv_F"
      },
      "execution_count": null,
      "outputs": []
    },
    {
      "cell_type": "markdown",
      "source": [
        "**Observations**\n",
        "\n",
        "\n",
        "*  Total watched time per user\n",
        "*   CustomerID 18OX855ZBCKS6I1C7X7EISRE001K spent a lot of time watching   \n",
        "\n",
        "\n",
        "\n",
        "\n",
        "\n"
      ],
      "metadata": {
        "id": "P99yuFPkK6Ow"
      }
    },
    {
      "cell_type": "code",
      "source": [
        "# Most watched titles\n",
        "print(df_cleaned['VideoTitle'].value_counts().head(10))\n"
      ],
      "metadata": {
        "colab": {
          "base_uri": "https://localhost:8080/"
        },
        "id": "ng_iwfpzMP75",
        "outputId": "b8f5e540-d8c0-49d4-9186-b7d74c9e0138"
      },
      "execution_count": 33,
      "outputs": [
        {
          "output_type": "stream",
          "name": "stdout",
          "text": [
            "VideoTitle\n",
            "Unknown                      33892\n",
            "South Africa Tonight          1151\n",
            "Suidooster                    1145\n",
            "The Block Australia            890\n",
            "The South African Morning      744\n",
            "7de Laan                       711\n",
            "Binnelanders                   679\n",
            "The Queen                      666\n",
            "Love Island South Africa       635\n",
            "Arendsvlei                     598\n",
            "Name: count, dtype: int64\n"
          ]
        }
      ]
    },
    {
      "cell_type": "markdown",
      "source": [
        "**Observations**\n",
        "\n",
        "\n",
        "*   Top three watched VideoTitle Unknown, South Africa Tonight and Suidooster\n"
      ],
      "metadata": {
        "id": "yoWwmR-2NODS"
      }
    },
    {
      "cell_type": "code",
      "source": [
        "# Checking which day had maximum watched time\n",
        "df_cleaned['Date'] = pd.to_datetime(df_cleaned['DateID'], format='%Y%m%d')\n",
        "# Add 'DayOfWeek' column\n",
        "df_cleaned['DayOfWeek'] = df_cleaned['Date'].dt.day_name()\n",
        "# Converting TotalTimeWatched to hours if not already done\n",
        "df_cleaned['TotalTimeWatched_Hours'] = df_cleaned['TotalTimeWatched'] / 3600\n",
        "# Group by Date and DayOfWeek to find max time watched per day\n",
        "max_time_per_day = df_cleaned.groupby(['Date', 'DayOfWeek'])['TotalTimeWatched_Hours'].max().reset_index().sort_values(by='TotalTimeWatched_Hours',ascending=False)\n",
        "# Save enriched dataset to CSV\n",
        "df_cleaned.to_csv(\"enriched_dataset.csv\", index=False)\n",
        "# Show enriched summary (top 5 rows)\n",
        "print(max_time_per_day.head(5))"
      ],
      "metadata": {
        "id": "hRnC2Y_YW634"
      },
      "execution_count": null,
      "outputs": []
    },
    {
      "cell_type": "markdown",
      "source": [
        "**Observations**\n",
        "\n",
        "*   Tuesday 09th of March 2021 had the highest time watched in hours 24.583\n",
        "\n"
      ],
      "metadata": {
        "id": "xkt-ECWKZ81-"
      }
    },
    {
      "cell_type": "code",
      "source": [
        "# Count unique customers per platform\n",
        "platform_customer_count = df_cleaned.groupby('Platform')['CustomerID'].nunique().reset_index()\n",
        "# Rename columns\n",
        "platform_customer_count.columns = ['Platform', 'CustomerCount']\n",
        "# Display result\n",
        "print(platform_customer_count)"
      ],
      "metadata": {
        "colab": {
          "base_uri": "https://localhost:8080/"
        },
        "id": "o3qDUrXcSQou",
        "outputId": "cf7ab1cd-c2b6-4894-802d-e3104b8ef369"
      },
      "execution_count": null,
      "outputs": [
        {
          "output_type": "stream",
          "name": "stdout",
          "text": [
            "   Platform  CustomerCount\n",
            "0   Android            440\n",
            "1  Leanback            580\n",
            "2       Web            398\n",
            "3       iOS            194\n"
          ]
        }
      ]
    },
    {
      "cell_type": "markdown",
      "source": [
        "**Observations**\n",
        "\n",
        "*   Most customers are in the Leanback platform with 580 customer count, 440 on the Android and 398 on the Web platform\n",
        "\n",
        "\n"
      ],
      "metadata": {
        "id": "Ef10pVTvZ2VT"
      }
    },
    {
      "cell_type": "code",
      "source": [
        "# Compare engagement between LiveTV and Catch Up.\n",
        "print(df_cleaned.groupby('PlayEventType')['TotalTimeWatched_Hours'].sum())\n"
      ],
      "metadata": {
        "colab": {
          "base_uri": "https://localhost:8080/"
        },
        "id": "9Tjb82QUXxRQ",
        "outputId": "9728fb4d-649c-47ac-b28b-492c2ce752ea"
      },
      "execution_count": null,
      "outputs": [
        {
          "output_type": "stream",
          "name": "stdout",
          "text": [
            "PlayEventType\n",
            "Catch Up      6907.89\n",
            "Downloads       74.97\n",
            "LiveTV       52312.09\n",
            "Other         5312.66\n",
            "Name: TotalTimeWatched_Hours, dtype: float64\n"
          ]
        }
      ]
    },
    {
      "cell_type": "markdown",
      "source": [
        "**Observations**\n",
        "*   Viewers engagement greater with Catch Up\n",
        "\n"
      ],
      "metadata": {
        "id": "jR_7QwxNYMfF"
      }
    },
    {
      "cell_type": "code",
      "source": [
        " # Classifying content by title keyword\n",
        "def classify_genre(title):\n",
        "    title = title.lower()\n",
        "    if 'f1' in title or 'ucl' in title or 'pl' in title:\n",
        "        return 'Sports'\n",
        "    elif 'amazing hotels' in title or 'documentary' in title:\n",
        "        return 'Documentary'\n",
        "    elif 'peppa pig' in title or 'cartoon' in title:\n",
        "        return 'Kids'\n",
        "    elif 'murder' in title or 'crime' in title:\n",
        "        return 'Crime'\n",
        "    else:\n",
        "        return 'Other'\n",
        "df_cleaned['Genre'] = df_cleaned['VideoTitle'].apply(classify_genre)\n",
        "# Saving updated dataset\n",
        "df_cleaned.to_csv(\"enriched_dataset.csv\", index=False)\n",
        "print(df_cleaned['Genre'].value_counts())"
      ],
      "metadata": {
        "id": "ZomMDpwGZiza"
      },
      "execution_count": null,
      "outputs": []
    },
    {
      "cell_type": "markdown",
      "source": [
        "**Observations**\n",
        "\n",
        "\n",
        "* Categorized the shows as per genre, e.g peppa pig classed as cartoon F1 as Sports\n",
        "\n"
      ],
      "metadata": {
        "id": "YKxs3rn-c7Ap"
      }
    },
    {
      "cell_type": "code",
      "source": [
        "# count number of view events\n",
        "views_by_day = df_cleaned.groupby('DayOfWeek')['TotalTimeWatched_Hours'].count().sort_values(ascending=False)\n",
        "print(views_by_day)"
      ],
      "metadata": {
        "colab": {
          "base_uri": "https://localhost:8080/"
        },
        "id": "fyBw8Shjdolt",
        "outputId": "4e4335a9-fd65-4f12-b9d8-d7d9082252d4"
      },
      "execution_count": 57,
      "outputs": [
        {
          "output_type": "stream",
          "name": "stdout",
          "text": [
            "DayOfWeek\n",
            "Sunday       17477\n",
            "Saturday     16383\n",
            "Thursday     15419\n",
            "Tuesday      14996\n",
            "Friday       14978\n",
            "Wednesday    14946\n",
            "Monday       14462\n",
            "Name: TotalTimeWatched_Hours, dtype: int64\n"
          ]
        }
      ]
    },
    {
      "cell_type": "markdown",
      "source": [
        "**Observations**\n",
        "\n",
        "*   Number of views each day of the week\n",
        "\n"
      ],
      "metadata": {
        "id": "7j-ZKZ4Gllph"
      }
    },
    {
      "cell_type": "code",
      "source": [
        "#  Which videos were watched more than once (might be because of repeats).\n",
        "df_cleaned['VideoTitle'].value_counts()\n",
        "print(df_cleaned['VideoTitle'].value_counts(5))"
      ],
      "metadata": {
        "colab": {
          "base_uri": "https://localhost:8080/"
        },
        "id": "ykWmQ0J5mLsR",
        "outputId": "1fee96e2-f834-43f2-b221-79ecd156350a"
      },
      "execution_count": 60,
      "outputs": [
        {
          "output_type": "stream",
          "name": "stdout",
          "text": [
            "VideoTitle\n",
            "Unknown                            0.311906\n",
            "South Africa Tonight               0.010593\n",
            "Suidooster                         0.010537\n",
            "The Block Australia                0.008191\n",
            "The South African Morning          0.006847\n",
            "                                     ...   \n",
            "BBC World News America             0.000009\n",
            "the eighties                       0.000009\n",
            "Zoom In: #HBD Chance The Rapper    0.000009\n",
            "Austrian Open                      0.000009\n",
            "Zoom In: Pre-Party                 0.000009\n",
            "Name: proportion, Length: 8904, dtype: float64\n"
          ]
        }
      ]
    },
    {
      "cell_type": "markdown",
      "source": [
        "**Observations**\n",
        "\n",
        "\n",
        "*  Videos or shows which were watched more than once\n",
        "\n"
      ],
      "metadata": {
        "id": "EFP_IqODmqGT"
      }
    },
    {
      "cell_type": "code",
      "source": [
        "# which videos were watched longer on average per event.\n",
        "df_cleaned.groupby('VideoTitle')['TotalTimeWatched_Hours'].mean().sort_values(ascending=False)\n",
        "print(df_cleaned.groupby('VideoTitle')['TotalTimeWatched_Hours'].mean().sort_values(ascending=False))\n"
      ],
      "metadata": {
        "colab": {
          "base_uri": "https://localhost:8080/"
        },
        "id": "-OXeMRmNm7wG",
        "outputId": "245e124f-2c71-4e04-d043-d871199de728"
      },
      "execution_count": 62,
      "outputs": [
        {
          "output_type": "stream",
          "name": "stdout",
          "text": [
            "VideoTitle\n",
            "BOX HL '21: Alvarez v Yildirim         18.160833\n",
            "Free In Deed                           14.600000\n",
            "ploey                                  12.800000\n",
            "WGC HL '21 WGC at The Concession D3    10.303333\n",
            "Black Market                            9.533333\n",
            "                                         ...    \n",
            "Closet Confidential                     0.000278\n",
            "Prophet Sbu Mokoena                     0.000278\n",
            "Jesus Trejo: Stay At Home Son           0.000278\n",
            "Until Forever                           0.000278\n",
            "Besigheid wat saak maak                 0.000278\n",
            "Name: TotalTimeWatched_Hours, Length: 8904, dtype: float64\n"
          ]
        }
      ]
    },
    {
      "cell_type": "markdown",
      "source": [
        "**Observations**\n",
        "\n",
        "VideoTitles with the highest average time\n",
        "*   BOX HL '21: Alvarez v Yildirim\n",
        "*   Free In Deed\n",
        "*   ploey\n",
        "\n",
        "\n"
      ],
      "metadata": {
        "id": "9ODp-QsroJB6"
      }
    }
  ]
}